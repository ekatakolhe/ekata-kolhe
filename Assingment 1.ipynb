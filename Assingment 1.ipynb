{
 "cells": [
  {
   "cell_type": "markdown",
   "id": "264b1f0e-4bb1-49f5-b34e-04a6711d8a0b",
   "metadata": {},
   "source": [
    "### `Problem 1`: Write a program that will give you in hand monthly salary after deduction on CTC - HRA(10%), DA(5%), PF(3%) and taxes deduction as below:"
   ]
  },
  {
   "cell_type": "code",
   "execution_count": 2,
   "id": "59a24fa0-74e5-45b5-af60-d52dd3a70e12",
   "metadata": {},
   "outputs": [
    {
     "name": "stdin",
     "output_type": "stream",
     "text": [
      "Enter your CTC (Cost to Company):  500000\n"
     ]
    },
    {
     "name": "stdout",
     "output_type": "stream",
     "text": [
      "Monthly salary after deductions: $29041.67\n"
     ]
    }
   ],
   "source": [
    "def calculate_monthly_salary(ctc):\n",
    "    hra_rate = 0.10   \n",
    "    da_rate = 0.05    # 5% for DA\n",
    "    pf_rate = 0.03    \n",
    "    tax_rate = 0.15   # 15% for taxes\n",
    "\n",
    "    total_deduction = ctc * (hra_rate + da_rate + pf_rate)\n",
    "\n",
    "\n",
    "    taxable_income = ctc - total_deduction\n",
    "\n",
    "    tax_amount = taxable_income * tax_rate\n",
    "    net_salary = taxable_income - tax_amount\n",
    "    monthly_salary = net_salary / 12\n",
    "\n",
    "    return monthly_salary\n",
    "\n",
    "ctc = float(input(\"Enter your CTC (Cost to Company): \"))\n",
    "\n",
    "monthly_salary = calculate_monthly_salary(ctc)\n",
    "\n",
    "print(f\"Monthly salary after deductions: ${monthly_salary:.2f}\")\n"
   ]
  },
  {
   "cell_type": "markdown",
   "id": "5ba39c28-a42d-4f37-862b-fe4a0044fa58",
   "metadata": {},
   "source": [
    "### `Problem 2`: Write a program that take a user input of three angles and will find out whether it can form a triangle or not."
   ]
  },
  {
   "cell_type": "code",
   "execution_count": 2,
   "id": "37c1b5c2-c8ea-4c12-a3e8-715b5074a5be",
   "metadata": {},
   "outputs": [
    {
     "name": "stdin",
     "output_type": "stream",
     "text": [
      "Enter first angle:  20\n",
      "Enter second angle:  30\n",
      "Enter third angle:  40\n"
     ]
    },
    {
     "name": "stdout",
     "output_type": "stream",
     "text": [
      "These angles cannot form a triangle.\n"
     ]
    }
   ],
   "source": [
    "def is_valid_triangle(angle1, angle2, angle3):\n",
    "    \n",
    "    if angle1 <= 0 or angle2 <= 0 or angle3 <= 0:\n",
    "        return False\n",
    "    \n",
    "    \n",
    "    if angle1 + angle2 + angle3 == 180:\n",
    "        return True\n",
    "    else:\n",
    "        return False\n",
    "\n",
    "\n",
    "def main():\n",
    "    try:\n",
    "        \n",
    "        angle1 = float(input(\"Enter first angle: \"))\n",
    "        angle2 = float(input(\"Enter second angle: \"))\n",
    "        angle3 = float(input(\"Enter third angle: \"))\n",
    "        \n",
    "        \n",
    "        if is_valid_triangle(angle1, angle2, angle3):\n",
    "            print(\"These angles can form a triangle.\")\n",
    "        else:\n",
    "            print(\"These angles cannot form a triangle.\")\n",
    "    \n",
    "    except ValueError:\n",
    "        print(\"Error: Please enter valid angles (numeric values).\")\n",
    "\n",
    "\n",
    "if __name__ == \"__main__\":\n",
    "    main()\n"
   ]
  },
  {
   "cell_type": "markdown",
   "id": "c9f5816d-3d06-49d0-90a1-174fcfd8fcfc",
   "metadata": {},
   "source": [
    "### `Problem 3`: Write a program that will take user input of cost price and selling price and determines whether its a loss or a profit."
   ]
  },
  {
   "cell_type": "code",
   "execution_count": 2,
   "id": "6dd190ff-3852-47b2-afd2-89d25a9051fd",
   "metadata": {},
   "outputs": [
    {
     "name": "stdin",
     "output_type": "stream",
     "text": [
      "Enter the cost price:  650\n",
      "Enter the selling price:  800\n"
     ]
    },
    {
     "name": "stdout",
     "output_type": "stream",
     "text": [
      "Profit of 150.0\n"
     ]
    }
   ],
   "source": [
    "def determine_profit_or_loss(cost_price, selling_price):\n",
    "    if selling_price > cost_price:\n",
    "        return f\"Profit of {selling_price - cost_price}\"\n",
    "    elif selling_price < cost_price:\n",
    "        return f\"Loss of {cost_price - selling_price}\"\n",
    "    else:\n",
    "        return \"No profit, no loss\"\n",
    "\n",
    "def main():\n",
    "    try:\n",
    "        cost_price = float(input(\"Enter the cost price: \"))\n",
    "        selling_price = float(input(\"Enter the selling price: \"))\n",
    "        result = determine_profit_or_loss(cost_price, selling_price)\n",
    "        print(result)\n",
    "    except ValueError:\n",
    "        print(\"Please enter valid numerical values for cost price and selling price.\")\n",
    "\n",
    "if __name__ == \"__main__\":\n",
    "     main()"
   ]
  },
  {
   "cell_type": "markdown",
   "id": "bc1403e8-23d4-4ae8-93c5-b5b0837264f6",
   "metadata": {},
   "source": [
    "### `Problem 4`: Write a menu-driven program -"
   ]
  },
  {
   "cell_type": "code",
   "execution_count": null,
   "id": "55fa05f7-2fbd-4e21-8ba7-4f4739122e19",
   "metadata": {},
   "outputs": [
    {
     "name": "stdout",
     "output_type": "stream",
     "text": [
      "\n",
      "Welcome to the Menu Program!\n",
      "1. Option 1: Action 1\n",
      "2. Option 2: Action 2\n",
      "3. Option 3: Action 3\n",
      "4. Exit\n"
     ]
    },
    {
     "name": "stdin",
     "output_type": "stream",
     "text": [
      "Enter your choice (1-4):  2\n"
     ]
    },
    {
     "name": "stdout",
     "output_type": "stream",
     "text": [
      "Executing action 2\n",
      "\n",
      "Welcome to the Menu Program!\n",
      "1. Option 1: Action 1\n",
      "2. Option 2: Action 2\n",
      "3. Option 3: Action 3\n",
      "4. Exit\n"
     ]
    },
    {
     "name": "stdin",
     "output_type": "stream",
     "text": [
      "Enter your choice (1-4):  3\n"
     ]
    },
    {
     "name": "stdout",
     "output_type": "stream",
     "text": [
      "Executing action 3\n",
      "\n",
      "Welcome to the Menu Program!\n",
      "1. Option 1: Action 1\n",
      "2. Option 2: Action 2\n",
      "3. Option 3: Action 3\n",
      "4. Exit\n"
     ]
    },
    {
     "name": "stdin",
     "output_type": "stream",
     "text": [
      "Enter your choice (1-4):  5\n"
     ]
    },
    {
     "name": "stdout",
     "output_type": "stream",
     "text": [
      "Invalid choice. Please enter a number from 1 to 4.\n",
      "\n",
      "Welcome to the Menu Program!\n",
      "1. Option 1: Action 1\n",
      "2. Option 2: Action 2\n",
      "3. Option 3: Action 3\n",
      "4. Exit\n"
     ]
    },
    {
     "name": "stdin",
     "output_type": "stream",
     "text": [
      "Enter your choice (1-4):  8\n"
     ]
    },
    {
     "name": "stdout",
     "output_type": "stream",
     "text": [
      "Invalid choice. Please enter a number from 1 to 4.\n",
      "\n",
      "Welcome to the Menu Program!\n",
      "1. Option 1: Action 1\n",
      "2. Option 2: Action 2\n",
      "3. Option 3: Action 3\n",
      "4. Exit\n"
     ]
    },
    {
     "name": "stdin",
     "output_type": "stream",
     "text": [
      "Enter your choice (1-4):  33\n"
     ]
    },
    {
     "name": "stdout",
     "output_type": "stream",
     "text": [
      "Invalid choice. Please enter a number from 1 to 4.\n",
      "\n",
      "Welcome to the Menu Program!\n",
      "1. Option 1: Action 1\n",
      "2. Option 2: Action 2\n",
      "3. Option 3: Action 3\n",
      "4. Exit\n"
     ]
    },
    {
     "name": "stdin",
     "output_type": "stream",
     "text": [
      "Enter your choice (1-4):  55\n"
     ]
    },
    {
     "name": "stdout",
     "output_type": "stream",
     "text": [
      "Invalid choice. Please enter a number from 1 to 4.\n",
      "\n",
      "Welcome to the Menu Program!\n",
      "1. Option 1: Action 1\n",
      "2. Option 2: Action 2\n",
      "3. Option 3: Action 3\n",
      "4. Exit\n"
     ]
    },
    {
     "name": "stdin",
     "output_type": "stream",
     "text": [
      "Enter your choice (1-4):  exit\n"
     ]
    },
    {
     "name": "stdout",
     "output_type": "stream",
     "text": [
      "Invalid choice. Please enter a number from 1 to 4.\n",
      "\n",
      "Welcome to the Menu Program!\n",
      "1. Option 1: Action 1\n",
      "2. Option 2: Action 2\n",
      "3. Option 3: Action 3\n",
      "4. Exit\n"
     ]
    }
   ],
   "source": [
    "\n",
    "def action1():\n",
    "    print(\"Executing action 1\")\n",
    "\n",
    "def action2():\n",
    "    print(\"Executing action 2\")\n",
    "\n",
    "def action3():\n",
    "    print(\"Executing action 3\")\n",
    "\n",
    "def main():\n",
    "    while True:\n",
    "        \n",
    "        print(\"\\nWelcome to the Menu Program!\")\n",
    "        print(\"1. Option 1: Action 1\")\n",
    "        print(\"2. Option 2: Action 2\")\n",
    "        print(\"3. Option 3: Action 3\")\n",
    "        print(\"4. Exit\")\n",
    "        \n",
    "        \n",
    "        choice = input(\"Enter your choice (1-4): \")\n",
    "        \n",
    "        \n",
    "        if choice == '1':\n",
    "            action1()\n",
    "        elif choice == '2':\n",
    "            action2()\n",
    "        elif choice == '3':\n",
    "            action3()\n",
    "        elif choice == '4':\n",
    "            print(\"Exiting the program. Goodbye!\")\n",
    "            break  \n",
    "        else:\n",
    "            print(\"Invalid choice. Please enter a number from 1 to 4.\")\n",
    "\n",
    "\n",
    "if __name__ == \"__main__\":\n",
    "    main()\n"
   ]
  },
  {
   "cell_type": "markdown",
   "id": "1a1dde76-34c0-4ac1-8a33-c2a4fddf5bef",
   "metadata": {},
   "source": [
    "### `Problem 5` - Exercise 12: Display Fibonacci series up to 10 terms."
   ]
  },
  {
   "cell_type": "code",
   "execution_count": 1,
   "id": "48f8d11b-e01f-4cd7-a6d3-91a3c97ec19c",
   "metadata": {},
   "outputs": [
    {
     "name": "stdout",
     "output_type": "stream",
     "text": [
      "Displaying Fibonacci series up to 10 terms:\n",
      "0 1 1 2 3 5 8 13 21 34 "
     ]
    }
   ],
   "source": [
    "def fibonacci(n):\n",
    "    \n",
    "    fib_series = [0, 1]\n",
    "    \n",
    "    \n",
    "    for i in range(2, n):\n",
    "        next_fib = fib_series[-1] + fib_series[-2]\n",
    "        fib_series.append(next_fib)\n",
    "    \n",
    "    return fib_series\n",
    "\n",
    "\n",
    "def main():\n",
    "    print(\"Displaying Fibonacci series up to 10 terms:\")\n",
    "    fib_series = fibonacci(10)\n",
    "    \n",
    "    \n",
    "    for num in fib_series:\n",
    "        print(num, end=\" \")\n",
    "\n",
    "if __name__ == \"__main__\":\n",
    "    main()\n"
   ]
  },
  {
   "cell_type": "markdown",
   "id": "1a78c5d9-87de-41ce-a39b-9c6a6fee4962",
   "metadata": {},
   "source": [
    "### `Problem 6` - Find the factorial of a given number.\n"
   ]
  },
  {
   "cell_type": "code",
   "execution_count": 5,
   "id": "cf722d82-9e90-4e24-a46e-f096ed0a4bf0",
   "metadata": {},
   "outputs": [
    {
     "name": "stdin",
     "output_type": "stream",
     "text": [
      "Enter a non-negative integer to find its factorial:  5\n"
     ]
    },
    {
     "name": "stdout",
     "output_type": "stream",
     "text": [
      "The factorial of 5 is: 120\n"
     ]
    }
   ],
   "source": [
    "def factorial(n):\n",
    "    \n",
    "    if n == 0 or n == 1:\n",
    "        return 1\n",
    "    \n",
    "    \n",
    "    result = 1\n",
    "    \n",
    "    \n",
    "    for i in range(2, n + 1):\n",
    "        result *= i\n",
    "    \n",
    "    return result\n",
    "\n",
    "\n",
    "def main():\n",
    "    try:\n",
    "        \n",
    "        n = int(input(\"Enter a non-negative integer to find its factorial: \"))\n",
    "        \n",
    "        if n < 0:\n",
    "            print(\"Factorial is not defined for negative numbers.\")\n",
    "        else:\n",
    "            \n",
    "            fact = factorial(n)\n",
    "            print(f\"The factorial of {n} is: {fact}\")\n",
    "    \n",
    "    except ValueError:\n",
    "        print(\"Invalid input! Please enter a valid non-negative integer.\")\n",
    "\n",
    "if __name__ == \"__main__\":\n",
    "    main()\n"
   ]
  },
  {
   "cell_type": "markdown",
   "id": "05fd18c1-bb99-465b-9d4b-eb60530194b0",
   "metadata": {},
   "source": [
    "### `Problem 7` - Reverse a given integer number."
   ]
  },
  {
   "cell_type": "code",
   "execution_count": 6,
   "id": "a083ff73-0296-45f4-b5bd-383c43c849e3",
   "metadata": {},
   "outputs": [
    {
     "name": "stdin",
     "output_type": "stream",
     "text": [
      "Enter an integer to reverse:  76542\n"
     ]
    },
    {
     "name": "stdout",
     "output_type": "stream",
     "text": [
      "The reversed integer of 76542 is: 24567\n"
     ]
    }
   ],
   "source": [
    "def reverse_integer(num):\n",
    "    \n",
    "    is_negative = False\n",
    "    if num < 0:\n",
    "        is_negative = True\n",
    "        num = -num  \n",
    "    \n",
    "    \n",
    "    reversed_str = str(num)[::-1]\n",
    "    \n",
    "    \n",
    "    reversed_num = int(reversed_str)\n",
    "    \n",
    "    \n",
    "    if is_negative:\n",
    "        reversed_num = -reversed_num\n",
    "    \n",
    "    return reversed_num\n",
    "\n",
    "\n",
    "def main():\n",
    "    try:\n",
    "        num = int(input(\"Enter an integer to reverse: \"))\n",
    "        reversed_num = reverse_integer(num)\n",
    "        print(f\"The reversed integer of {num} is: {reversed_num}\")\n",
    "    except ValueError:\n",
    "        print(\"Invalid input! Please enter a valid integer.\")\n",
    "\n",
    "if __name__ == \"__main__\":\n",
    "    main()\n"
   ]
  },
  {
   "cell_type": "markdown",
   "id": "e5af9bec-6b83-493b-a09a-6d0ad51a8b19",
   "metadata": {},
   "source": [
    "### `Problem 8`: Take a user input as integer N. Find out the sum from 1 to N. If any number if divisible by 5, then skip that number. And if the sum is greater than 300, don't need to calculate the sum further more. Print the final result. And don't use for loop to solve this problem.\n",
    "\n"
   ]
  },
  {
   "cell_type": "code",
   "execution_count": 12,
   "id": "b2acb358-7453-444f-8e3f-738e9e6cbafb",
   "metadata": {},
   "outputs": [
    {
     "name": "stdin",
     "output_type": "stream",
     "text": [
      "Enter an integer N:  26\n"
     ]
    },
    {
     "name": "stdout",
     "output_type": "stream",
     "text": [
      "The final sum from 1 to 26 excluding numbers divisible by 5 is: 276\n"
     ]
    }
   ],
   "source": [
    "def calculate_sum(current_sum, current_num, N):\n",
    "    \n",
    "    if current_num > N or current_sum > 300:\n",
    "        return current_sum\n",
    "    \n",
    "    \n",
    "    if current_num % 5 == 0:\n",
    "        \n",
    "        return calculate_sum(current_sum, current_num + 1, N)\n",
    "    \n",
    "    \n",
    "    current_sum += current_num\n",
    "    \n",
    "    \n",
    "    return calculate_sum(current_sum, current_num + 1, N)\n",
    "\n",
    "def main():\n",
    "    try:\n",
    "        N = int(input(\"Enter an integer N: \"))\n",
    "        \n",
    "        \n",
    "        final_sum = calculate_sum(0, 1, N)\n",
    "        \n",
    "        print(f\"The final sum from 1 to {N} excluding numbers divisible by 5 is: {final_sum}\")\n",
    "    \n",
    "    except ValueError:\n",
    "        print(\"Invalid input! Please enter a valid integer.\")\n",
    "\n",
    "if __name__ == \"__main__\":\n",
    "    main()\n"
   ]
  },
  {
   "cell_type": "markdown",
   "id": "fcf41590-475d-4a7e-9c3b-5a3e4fd6d4ea",
   "metadata": {},
   "source": [
    "### `Problem 9`: Write a program that keeps on accepting a number from the user until the user enters Zero. Display the sum and average of all the numbers."
   ]
  },
  {
   "cell_type": "code",
   "execution_count": 13,
   "id": "7e869362-45da-4902-abef-67fdc477b007",
   "metadata": {},
   "outputs": [
    {
     "name": "stdin",
     "output_type": "stream",
     "text": [
      "Enter a number (enter 0 to stop):  5\n",
      "Enter a number (enter 0 to stop):  7.5\n",
      "Enter a number (enter 0 to stop):  -2\n",
      "Enter a number (enter 0 to stop):  0\n"
     ]
    },
    {
     "name": "stdout",
     "output_type": "stream",
     "text": [
      "Sum of the numbers: 10.5\n",
      "Average of the numbers: 3.5\n"
     ]
    }
   ],
   "source": [
    "def main():\n",
    "    numbers = []\n",
    "    \n",
    "    while True:\n",
    "        try:\n",
    "            num = float(input(\"Enter a number (enter 0 to stop): \"))\n",
    "            \n",
    "            if num == 0:\n",
    "                break  \n",
    "            \n",
    "            numbers.append(num)\n",
    "        \n",
    "        except ValueError:\n",
    "            print(\"Invalid input! Please enter a valid number.\")\n",
    "    \n",
    "    if numbers:\n",
    "        total_sum = sum(numbers)\n",
    "        average = total_sum / len(numbers)\n",
    "        print(f\"Sum of the numbers: {total_sum}\")\n",
    "        print(f\"Average of the numbers: {average}\")\n",
    "    else:\n",
    "        print(\"No numbers were entered.\")\n",
    "\n",
    "if __name__ == \"__main__\":\n",
    "    main()\n"
   ]
  },
  {
   "cell_type": "markdown",
   "id": "ec81e06b-e420-4f78-85a8-9c7c3fcde1b0",
   "metadata": {},
   "source": [
    "### `Problem 10`: Write a program, which will find all such numbers between 1000 and 3000 (both included) such that each digit of the number is an even number. The numbers obtained should be printed in a space-separated sequence on a single line.\n",
    "\n"
   ]
  },
  {
   "cell_type": "code",
   "execution_count": 14,
   "id": "f66dee14-abd1-4ca3-b913-17c38a687cf2",
   "metadata": {},
   "outputs": [
    {
     "name": "stdout",
     "output_type": "stream",
     "text": [
      "Numbers with all even digits between 1000 and 3000:\n",
      "2000 2002 2004 2006 2008 2020 2022 2024 2026 2028 2040 2042 2044 2046 2048 2060 2062 2064 2066 2068 2080 2082 2084 2086 2088 2200 2202 2204 2206 2208 2220 2222 2224 2226 2228 2240 2242 2244 2246 2248 2260 2262 2264 2266 2268 2280 2282 2284 2286 2288 2400 2402 2404 2406 2408 2420 2422 2424 2426 2428 2440 2442 2444 2446 2448 2460 2462 2464 2466 2468 2480 2482 2484 2486 2488 2600 2602 2604 2606 2608 2620 2622 2624 2626 2628 2640 2642 2644 2646 2648 2660 2662 2664 2666 2668 2680 2682 2684 2686 2688 2800 2802 2804 2806 2808 2820 2822 2824 2826 2828 2840 2842 2844 2846 2848 2860 2862 2864 2866 2868 2880 2882 2884 2886 2888\n"
     ]
    }
   ],
   "source": [
    "def find_even_digit_numbers():\n",
    "    results = []\n",
    "    \n",
    "    # Iterate through numbers from 1000 to 3000\n",
    "    for num in range(1000, 3001):\n",
    "        num_str = str(num)\n",
    "        \n",
    "        # Check if all digits are even\n",
    "        if all(int(digit) % 2 == 0 for digit in num_str):\n",
    "            results.append(num_str)\n",
    "    \n",
    "    return results\n",
    "\n",
    "def main():\n",
    "    even_digit_numbers = find_even_digit_numbers()\n",
    "    \n",
    "    # Print the numbers in a space-separated sequence\n",
    "    print(\"Numbers with all even digits between 1000 and 3000:\")\n",
    "    print(\" \".join(even_digit_numbers))\n",
    "\n",
    "if __name__ == \"__main__\":\n",
    "    main()\n"
   ]
  },
  {
   "cell_type": "markdown",
   "id": "1e6953c2-9cbd-4a77-90d0-dfae371c0ec2",
   "metadata": {},
   "source": [
    "### `Problem 11`: A robot moves in a plane starting from the original point (0,0). The robot can move toward UP, DOWN, LEFT and RIGHT with a given steps. \n",
    "The trace of robot movement is shown as the following:\n",
    "```"
   ]
  },
  {
   "cell_type": "code",
   "execution_count": 17,
   "id": "795bee15-e1c5-4d6b-845f-e6d952d1c570",
   "metadata": {},
   "outputs": [
    {
     "name": "stdout",
     "output_type": "stream",
     "text": [
      "Trace of robot movement:\n",
      "Step 0: (0, 0)\n",
      "Step 1: (5, 0)\n",
      "Step 2: (5, 3)\n",
      "Step 3: (3, 3)\n",
      "Step 4: (3, -1)\n"
     ]
    }
   ],
   "source": [
    "def move_robot(steps):\n",
    "    \n",
    "    x, y = 0, 0\n",
    "    \n",
    "    \n",
    "    trace = [(x, y)]\n",
    "    \n",
    "    \n",
    "    for move in steps:\n",
    "        direction, distance = move.split()\n",
    "        distance = int(distance)\n",
    "        \n",
    "        if direction == \"UP\":\n",
    "            y += distance\n",
    "        elif direction == \"DOWN\":\n",
    "            y -= distance\n",
    "        elif direction == \"LEFT\":\n",
    "            x -= distance\n",
    "        elif direction == \"RIGHT\":\n",
    "            x += distance\n",
    "        \n",
    "        \n",
    "        trace.append((x, y))\n",
    "    \n",
    "    \n",
    "    return trace\n",
    "\n",
    "def print_trace(trace):\n",
    "    \n",
    "    for i, (x, y) in enumerate(trace):\n",
    "        print(f\"Step {i}: ({x}, {y})\")\n",
    "\n",
    "def main():\n",
    "\n",
    "    steps = [\"RIGHT 5\", \"UP 3\", \"LEFT 2\", \"DOWN 4\"]\n",
    "    \n",
    "    trace = move_robot(steps)\n",
    "    print(\"Trace of robot movement:\")\n",
    "    print_trace(trace)\n",
    "\n",
    "if __name__ == \"__main__\":\n",
    "    main()\n"
   ]
  },
  {
   "cell_type": "markdown",
   "id": "0fdbb1ea-eb8b-4b4e-9da8-742cf02e8589",
   "metadata": {},
   "source": [
    "### `Problem 12`:Write a program to print whether a given number is a prime number or not"
   ]
  },
  {
   "cell_type": "code",
   "execution_count": 18,
   "id": "944a099c-845d-4348-a1bc-bb88e3a3ff3d",
   "metadata": {},
   "outputs": [
    {
     "name": "stdin",
     "output_type": "stream",
     "text": [
      "Enter a number to check if it is prime:  17\n"
     ]
    },
    {
     "name": "stdout",
     "output_type": "stream",
     "text": [
      "17 is a prime number.\n"
     ]
    }
   ],
   "source": [
    "def is_prime(number):\n",
    "    \n",
    "    if number <= 1:\n",
    "        return False\n",
    "    \n",
    "    \n",
    "    for i in range(2, int(number**0.5) + 1):\n",
    "        if number % i == 0:\n",
    "            return False\n",
    "    \n",
    "    return True\n",
    "\n",
    "def main():\n",
    "    try:\n",
    "        num = int(input(\"Enter a number to check if it is prime: \"))\n",
    "        \n",
    "        if is_prime(num):\n",
    "            print(f\"{num} is a prime number.\")\n",
    "        else:\n",
    "            print(f\"{num} is not a prime number.\")\n",
    "    \n",
    "    except ValueError:\n",
    "        print(\"Invalid input! Please enter a valid integer.\")\n",
    "\n",
    "if __name__ == \"__main__\":\n",
    "    main()\n"
   ]
  },
  {
   "cell_type": "markdown",
   "id": "8b667921-3a43-4708-900f-61022eba994e",
   "metadata": {},
   "source": [
    "### `Problem 13`:Print all the Armstrong numbers in a given range."
   ]
  },
  {
   "cell_type": "code",
   "execution_count": 19,
   "id": "72c5c6dd-3fbd-4f6f-aba3-e4ffe93dea51",
   "metadata": {},
   "outputs": [
    {
     "name": "stdout",
     "output_type": "stream",
     "text": [
      "Armstrong numbers between 100 and 1000: [153, 370, 371, 407]\n"
     ]
    }
   ],
   "source": [
    "def is_armstrong(number):\n",
    "    num_str = str(number)\n",
    "    num_digits = len(num_str)\n",
    "    sum_of_powers = sum(int(digit) ** num_digits for digit in num_str)\n",
    "    return number == sum_of_powers\n",
    "\n",
    "def find_armstrong_numbers_in_range(start, end):\n",
    "    armstrong_numbers = []\n",
    "    for num in range(start, end + 1):\n",
    "        if is_armstrong(num):\n",
    "            armstrong_numbers.append(num)\n",
    "    return armstrong_numbers\n",
    "\n",
    "\n",
    "start = 100\n",
    "end = 1000\n",
    "armstrong_numbers = find_armstrong_numbers_in_range(start, end)\n",
    "print(f\"Armstrong numbers between {start} and {end}: {armstrong_numbers}\")"
   ]
  },
  {
   "cell_type": "markdown",
   "id": "4585c2df-500f-4a67-b9c7-956e9bb6da1c",
   "metadata": {},
   "source": [
    "### `Problem 14`:Calculate the angle between the hour hand and minute hand."
   ]
  },
  {
   "cell_type": "code",
   "execution_count": 34,
   "id": "6e28a90a-e40a-4f51-817f-c98d66183a5f",
   "metadata": {},
   "outputs": [
    {
     "name": "stdout",
     "output_type": "stream",
     "text": [
      "93\n"
     ]
    }
   ],
   "source": [
    "def angle_between_hands(hour, minute):\n",
    "    \n",
    "    hour_pos = 30 * hour + 0.5 * minute\n",
    "    minute_pos = 6 * minute\n",
    "    \n",
    "    \n",
    "    angle_between_hands = abs(hour_pos - minute_pos)\n",
    "    \n",
    "\n",
    "    smaller_angle = min(angle_between_hands, 360 - angle_between_hands)\n",
    "    \n",
    "    \n",
    "    return int(smaller_angle)\n",
    "\n",
    "\n",
    "hour =9\n",
    "minute =66\n",
    "\n",
    "result_angle = angle_between_hands(hour, minute)\n",
    "print(result_angle) \n"
   ]
  },
  {
   "cell_type": "markdown",
   "id": "654d41b3-59fb-4e1f-9ca8-7192cd14f9e1",
   "metadata": {},
   "source": [
    "### `Problem 15`:Given two rectangles, find if the given two rectangles overlap or not. A rectangle is denoted by providing the x and y coordinates of two points: the left top corner and the right bottom corner of the rectangle. Two rectangles sharing a side are considered overlapping. (L1 and R1 are the extreme points of the first rectangle and L2 and R2 are the extreme points of the second rectangle).\n"
   ]
  },
  {
   "cell_type": "code",
   "execution_count": 37,
   "id": "14468fb6-1b61-466e-84ad-f843a5bb6e7f",
   "metadata": {},
   "outputs": [
    {
     "name": "stdout",
     "output_type": "stream",
     "text": [
      "Rectangles overlap.\n"
     ]
    }
   ],
   "source": [
    "def do_rectangles_overlap(L1, R1, L2, R2):\n",
    "    if L1[0] > R2[0] or L2[0] > R1[0]:\n",
    "        return False\n",
    "    \n",
    "    if L1[1] < R2[1] or L2[1] < R1[1]:\n",
    "        return False\n",
    "    \n",
    "    return True\n",
    "\n",
    "\n",
    "L1 = (0, 10)   \n",
    "R1 = (10, 0)   \n",
    "L2 = (5, 5)    \n",
    "R2 = (15, 0)   \n",
    "\n",
    "overlap = do_rectangles_overlap(L1, R1, L2, R2)\n",
    "if overlap:\n",
    "    print(\"Rectangles overlap.\")\n",
    "else:\n",
    "    print(\"Rectangles do not overlap.\")\n"
   ]
  },
  {
   "cell_type": "code",
   "execution_count": null,
   "id": "6ea933e8-843a-40a2-b42b-15fbded590fd",
   "metadata": {},
   "outputs": [],
   "source": []
  }
 ],
 "metadata": {
  "kernelspec": {
   "display_name": "Python 3 (ipykernel)",
   "language": "python",
   "name": "python3"
  },
  "language_info": {
   "codemirror_mode": {
    "name": "ipython",
    "version": 3
   },
   "file_extension": ".py",
   "mimetype": "text/x-python",
   "name": "python",
   "nbconvert_exporter": "python",
   "pygments_lexer": "ipython3",
   "version": "3.11.7"
  }
 },
 "nbformat": 4,
 "nbformat_minor": 5
}
