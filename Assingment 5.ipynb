{
 "cells": [
  {
   "cell_type": "markdown",
   "id": "7e4ea01e-bdef-4430-b02c-178b52675e0a",
   "metadata": {},
   "source": [
    "### **`Problem-1:`** Write a Python function that takes a list and returns a new list with unique elements of the first list.\n"
   ]
  },
  {
   "cell_type": "code",
   "execution_count": 4,
   "id": "87b674a0-7129-4af0-a316-c89b268f2b72",
   "metadata": {},
   "outputs": [
    {
     "name": "stdout",
     "output_type": "stream",
     "text": [
      "[1, 2, 3, 4, 5]\n"
     ]
    }
   ],
   "source": [
    "def unique_elements(input_list):\n",
    "    unique_set = set(input_list)\n",
    "    unique_list = list(unique_set)\n",
    "    return unique_list\n",
    "input_list = [1, 2, 3, 3, 3, 3, 4, 5]\n",
    "result = unique_elements(input_list)\n",
    "print(result)\n"
   ]
  },
  {
   "cell_type": "markdown",
   "id": "ba8c8291-6456-47f7-a511-bdabe2feee23",
   "metadata": {},
   "source": [
    "### **`Problem-2:`** Write a Python function that accepts a hyphen-separated sequence of words as parameter and returns the words in a hyphen-separated sequence after sorting them alphabetically.\n"
   ]
  },
  {
   "cell_type": "code",
   "execution_count": 5,
   "id": "abe957b0-a2b8-4def-8003-b19c80f5150c",
   "metadata": {},
   "outputs": [
    {
     "name": "stdout",
     "output_type": "stream",
     "text": [
      "black-green-red-white-yellow\n"
     ]
    }
   ],
   "source": [
    "def sort_hyphenated_sequence(sequence):\n",
    "    words = sequence.split('-')\n",
    "    sorted_words = sorted(words)\n",
    "    sorted_sequence = '-'.join(sorted_words)\n",
    "    return sorted_sequence\n",
    "input_sequence = \"green-red-yellow-black-white\"\n",
    "result = sort_hyphenated_sequence(input_sequence)\n",
    "print(result)\n"
   ]
  },
  {
   "cell_type": "markdown",
   "id": "24086d4e-9072-4bfb-b770-d3f1fdbb3b35",
   "metadata": {},
   "source": [
    "### **`Problem 3:`** Write a Python function that accepts a string and calculate the number of upper case letters and lower case letters.\n"
   ]
  },
  {
   "cell_type": "code",
   "execution_count": 6,
   "id": "b19e8f4e-7381-4c1a-adf1-8f3147f81e77",
   "metadata": {},
   "outputs": [
    {
     "name": "stdout",
     "output_type": "stream",
     "text": [
      "Original String : CampusX is an Online Mentorship Program fOr EnginEering studentS.\n",
      "Number of uppercase letters : 9\n",
      "Number of lowercase letters : 47\n"
     ]
    }
   ],
   "source": [
    "def count_upper_lower(string):\n",
    "    upper_count = 0\n",
    "    lower_count = 0\n",
    "    for char in string:\n",
    "        if char.isupper():\n",
    "            upper_count += 1\n",
    "        elif char.islower():\n",
    "            lower_count += 1\n",
    "    \n",
    "    return upper_count, lower_count\n",
    "sample_string = 'CampusX is an Online Mentorship Program fOr EnginEering studentS.'\n",
    "upper_count, lower_count = count_upper_lower(sample_string)\n",
    "\n",
    "print(\"Original String :\",sample_string)\n",
    "print(\"Number of uppercase letters :\", upper_count)\n",
    "print(\"Number of lowercase letters :\", lower_count)\n"
   ]
  },
  {
   "cell_type": "markdown",
   "id": "904e8bcc-50bf-48a6-948f-20c9db82b570",
   "metadata": {},
   "source": [
    "### **`Problem 4:`** Write a Python program to print the even numbers from a given list.\n"
   ]
  },
  {
   "cell_type": "code",
   "execution_count": 7,
   "id": "b0e7af43-c521-413b-b16c-e82a47b0ef49",
   "metadata": {},
   "outputs": [
    {
     "name": "stdout",
     "output_type": "stream",
     "text": [
      "Sample List: [1, 2, 3, 4, 5, 6, 7, 8, 9]\n",
      "Even numbers:\n",
      "2\n",
      "4\n",
      "6\n",
      "8\n"
     ]
    }
   ],
   "source": [
    "def print_even_numbers(numbers):\n",
    "    for number in numbers:\n",
    "        if number % 2 == 0:\n",
    "            print(number)\n",
    "sample_list = [1, 2, 3, 4, 5, 6, 7, 8, 9]\n",
    "print(\"Sample List:\", sample_list)\n",
    "print(\"Even numbers:\")\n",
    "print_even_numbers(sample_list)\n"
   ]
  },
  {
   "cell_type": "markdown",
   "id": "da06e21c-6a32-49c4-b42a-65118ac3aaab",
   "metadata": {},
   "source": [
    "### **`Problem 5:`** Write a Python function to check whether a number is perfect or not.\n",
    "\n",
    "A Perfect number is a number that is half the sum of all of its positive divisors (including itself).\n"
   ]
  },
  {
   "cell_type": "code",
   "execution_count": 8,
   "id": "4feee5ed-0449-43bb-af97-2774251c9d16",
   "metadata": {},
   "outputs": [
    {
     "name": "stdout",
     "output_type": "stream",
     "text": [
      "6 is a perfect number.\n",
      "28 is a perfect number.\n",
      "496 is a perfect number.\n",
      "8128 is a perfect number.\n",
      "10 is not a perfect number.\n",
      "15 is not a perfect number.\n"
     ]
    }
   ],
   "source": [
    "def is_perfect_number(num):\n",
    "    if num <= 0:\n",
    "        return False\n",
    "    \n",
    "    divisors_sum = 0\n",
    "    for i in range(1, num):\n",
    "        if num % i == 0:\n",
    "            divisors_sum += i\n",
    "    return divisors_sum == num\n",
    "numbers_to_check = [6, 28, 496, 8128, 10, 15]\n",
    "\n",
    "for num in numbers_to_check:\n",
    "    if is_perfect_number(num):\n",
    "        print(f\"{num} is a perfect number.\")\n",
    "    else:\n",
    "        print(f\"{num} is not a perfect number.\")\n"
   ]
  },
  {
   "cell_type": "markdown",
   "id": "7776ac75-5c5e-4f84-9f48-f6f8356ee3cd",
   "metadata": {},
   "source": [
    "### **`Problem-6:`** Write a Python function to concatenate any no of dictionaries to create a new one.\n"
   ]
  },
  {
   "cell_type": "code",
   "execution_count": 9,
   "id": "bc63b9de-575f-4033-8775-262da7e794af",
   "metadata": {},
   "outputs": [
    {
     "name": "stdout",
     "output_type": "stream",
     "text": [
      "Concatenated Dictionary:\n",
      "{1: 10, 2: 20, 3: 30, 4: 40, 5: 50, 6: 60}\n"
     ]
    }
   ],
   "source": [
    "def concatenate_dicts(*dicts):\n",
    "    concatenated_dict = {}\n",
    "    for d in dicts:\n",
    "        concatenated_dict.update(d)\n",
    "    return concatenated_dict\n",
    "dic1 = {1: 10, 2: 20}\n",
    "dic2 = {3: 30, 4: 40}\n",
    "dic3 = {5: 50, 6: 60}\n",
    "\n",
    "concatenated_dict = concatenate_dicts(dic1, dic2, dic3)\n",
    "print(\"Concatenated Dictionary:\")\n",
    "print(concatenated_dict)\n"
   ]
  },
  {
   "cell_type": "markdown",
   "id": "869d1342-3e66-44a5-bb11-9772a791ca64",
   "metadata": {},
   "source": [
    "### `Problem-7` Write a python function that accepts a string as input and returns the word with most occurence.\n"
   ]
  },
  {
   "cell_type": "code",
   "execution_count": 11,
   "id": "c83a4671-a2a5-41c8-9c14-027ce0413623",
   "metadata": {},
   "outputs": [
    {
     "name": "stdout",
     "output_type": "stream",
     "text": [
      "Input String: hello how are you i am fine thank you\n",
      "Output: you -> 2\n"
     ]
    }
   ],
   "source": [
    "def most_frequent_word(input_string):\n",
    "    words = input_string.split()\n",
    "    word_count = {}\n",
    "    for word in words:\n",
    "        if word in word_count:\n",
    "            word_count[word] += 1\n",
    "        else:\n",
    "            word_count[word] = 1\n",
    "    max_occurrence = 0\n",
    "    frequent_word = \"\"\n",
    "    for word, count in word_count.items():\n",
    "        if count > max_occurrence:\n",
    "            max_occurrence = count\n",
    "            frequent_word = word\n",
    "    return f\"{frequent_word} -> {max_occurrence}\"\n",
    "input_string = \"hello how are you i am fine thank you\"\n",
    "result = most_frequent_word(input_string)\n",
    "print(\"Input String:\", input_string)\n",
    "print(\"Output:\", result)\n"
   ]
  },
  {
   "cell_type": "markdown",
   "id": "e6a215ce-e827-4460-8298-157d509743fc",
   "metadata": {},
   "source": [
    "### `Problem-8` Write a python function that receives a list of integers and prints out a histogram of bin size 10\n"
   ]
  },
  {
   "cell_type": "code",
   "execution_count": 16,
   "id": "cf44ee13-45db-4fcf-9493-bdc7837cdd74",
   "metadata": {},
   "outputs": [
    {
     "name": "stdout",
     "output_type": "stream",
     "text": [
      "Input: [13, 42, 15, 37, 22, 39, 41, 50]\n",
      "Output:\n",
      "{'11-20': 2, '21-30': 1, '31-40': 2, '41-50': 2, '51-60': 1}\n"
     ]
    }
   ],
   "source": [
    "def histogram_bins(input_list):\n",
    "    histogram = {}\n",
    "    for num in input_list:\n",
    "        bin_lower = (num // 10) * 10 + 1\n",
    "        bin_upper = bin_lower + 9\n",
    "        bin_label = f\"{bin_lower}-{bin_upper}\"\n",
    "        \n",
    "        if bin_label in histogram:\n",
    "            histogram[bin_label] += 1\n",
    "        else:\n",
    "            histogram[bin_label] = 1\n",
    "    sorted_histogram = dict(sorted(histogram.items()))\n",
    "    \n",
    "    return sorted_histogram\n",
    "input_list = [13, 42, 15, 37, 22, 39, 41, 50]\n",
    "output = histogram_bins(input_list)\n",
    "print(\"Input:\", input_list)\n",
    "print(\"Output:\")\n",
    "print(output)\n"
   ]
  },
  {
   "cell_type": "markdown",
   "id": "4c43f75e-8ead-43ae-8dcd-34af05db1125",
   "metadata": {},
   "source": [
    "### `Problem-9` Write a python function that accepts a list of 2D co-ordinates and a query point, and then finds the the co-ordinate which is closest in terms of distance from the query point.\n"
   ]
  },
  {
   "cell_type": "code",
   "execution_count": 17,
   "id": "d468f042-faee-4d77-8982-a7977b5b05a2",
   "metadata": {},
   "outputs": [
    {
     "name": "stdout",
     "output_type": "stream",
     "text": [
      "List of Coordinates: [(1, 1), (2, 2), (3, 3), (4, 4)]\n",
      "Query Point: (0, 0)\n",
      "Closest Coordinate: (1, 1)\n"
     ]
    }
   ],
   "source": [
    "import math\n",
    "\n",
    "def closest_coordinate(coordinates, query_point):\n",
    "    if not coordinates:\n",
    "        return None\n",
    "    def distance(point1, point2):\n",
    "        return math.sqrt((point1[0] - point2[0])**2 + (point1[1] - point2[1])**2)\n",
    "    closest_coord = coordinates[0]\n",
    "    min_distance = distance(closest_coord, query_point)\n",
    "    for coord in coordinates[1:]:\n",
    "        dist = distance(coord, query_point)\n",
    "        if dist < min_distance:\n",
    "            min_distance = dist\n",
    "            closest_coord = coord\n",
    "    \n",
    "    return closest_coord\n",
    "coordinates = [(1, 1), (2, 2), (3, 3), (4, 4)]\n",
    "query_point = (0, 0)\n",
    "closest_coord = closest_coordinate(coordinates, query_point)\n",
    "\n",
    "print(\"List of Coordinates:\", coordinates)\n",
    "print(\"Query Point:\", query_point)\n",
    "print(\"Closest Coordinate:\", closest_coord)\n"
   ]
  },
  {
   "cell_type": "markdown",
   "id": "f5868891-e6c9-4f05-a280-d0ed5be55a05",
   "metadata": {},
   "source": [
    "### `Problem-10`:Write a python program that receives a list of strings and performs bag of word operation on those strings\n"
   ]
  },
  {
   "cell_type": "code",
   "execution_count": 4,
   "id": "cf06c23b-7066-4c5a-af38-c39a83548c0c",
   "metadata": {},
   "outputs": [
    {
     "name": "stdout",
     "output_type": "stream",
     "text": [
      "Bag of words for string 1:\n",
      "Counter({'hello': 1, 'world': 1})\n",
      "\n",
      "Bag of words for string 2:\n",
      "Counter({'world': 1, 'is': 1, 'beautiful': 1})\n",
      "\n",
      "Bag of words for string 3:\n",
      "Counter({'hello': 1, 'beautiful': 1, 'world': 1})\n",
      "\n"
     ]
    }
   ],
   "source": [
    "from collections import Counter\n",
    "def bag_of_words(strings):\n",
    "    tokens = [string.split() for string in strings]\n",
    "    bags_of_words = []\n",
    "    for token_list in tokens:\n",
    "        bag = Counter(token_list)\n",
    "        bags_of_words.append(bag)\n",
    "    \n",
    "    return bags_of_words\n",
    "if __name__ == \"__main__\":\n",
    "    strings = [\n",
    "        \"hello world\",\n",
    "        \"world is beautiful\",\n",
    "        \"hello beautiful world\"\n",
    "    ]\n",
    "    result = bag_of_words(strings)\n",
    "    for i, bag in enumerate(result):\n",
    "        print(f\"Bag of words for string {i+1}:\")\n",
    "        print(bag)\n",
    "        print()\n"
   ]
  },
  {
   "cell_type": "markdown",
   "id": "1a3ded3d-03df-43cb-b73a-60494d75af7d",
   "metadata": {},
   "source": [
    "### `Problem 11:` Write a Python program to add three given lists using Python map and lambda."
   ]
  },
  {
   "cell_type": "code",
   "execution_count": 5,
   "id": "1112d7e7-e346-4891-88b7-7dfeadd806b0",
   "metadata": {},
   "outputs": [
    {
     "name": "stdout",
     "output_type": "stream",
     "text": [
      "Result after adding three lists: [15, 18, 21, 24]\n"
     ]
    }
   ],
   "source": [
    "list1 = [1, 2, 3, 4]\n",
    "list2 = [5, 6, 7, 8]\n",
    "list3 = [9, 10, 11, 12]\n",
    "result = list(map(lambda x, y, z: x + y + z, list1, list2, list3))\n",
    "print(\"Result after adding three lists:\", result)\n"
   ]
  },
  {
   "cell_type": "markdown",
   "id": "9f45c84a-eeb1-4b5d-898f-632e1d648956",
   "metadata": {},
   "source": [
    "### `Problem-12:`Write a Python program to create a list containing the power of said number in bases raised to the corresponding number in the index using Python map.\n"
   ]
  },
  {
   "cell_type": "code",
   "execution_count": 6,
   "id": "dd14eba3-c8d8-4614-a365-d8f115a71b18",
   "metadata": {},
   "outputs": [
    {
     "name": "stdout",
     "output_type": "stream",
     "text": [
      "Result: [1, 2, 9, 64, 625, 7776]\n"
     ]
    }
   ],
   "source": [
    "list1 = [1, 2, 3, 4, 5, 6]\n",
    "result = list(map(lambda b]ase, exp: base ** exp, list1, range(len(list1))))\n",
    "print(\"Result:\", result)\n"
   ]
  },
  {
   "cell_type": "markdown",
   "id": "d4ecf583-5905-4be2-a232-484f931f6609",
   "metadata": {},
   "source": [
    "### `Problem-13` Using filter() and list() functions and .lower() method filter \n"
   ]
  },
  {
   "cell_type": "code",
   "execution_count": 9,
   "id": "5ce36140-b7f6-4fbf-9ee7-5bbb0689f7b5",
   "metadata": {},
   "outputs": [
    {
     "name": "stdout",
     "output_type": "stream",
     "text": [
      "Filtered vowels: ['e', 'o', 'o']\n"
     ]
    }
   ],
   "source": [
    "input_string = \"Hello, World!\"\n",
    "vowels = \"aeiouAEIOU\"\n",
    "filtered_vowels = list(filter(lambda x: x.lower() in vowels, input_string))\n",
    "print(\"Filtered vowels:\", filtered_vowels)\n"
   ]
  },
  {
   "cell_type": "markdown",
   "id": "3e4467a5-6a2d-4699-8e32-0eefd9abc959",
   "metadata": {},
   "source": [
    "### `Problem-14`: Use reduce to convert a 2D list to 1D"
   ]
  },
  {
   "cell_type": "code",
   "execution_count": 13,
   "id": "3a885344-ab80-4cef-b539-ea51c0ad56c8",
   "metadata": {},
   "outputs": [
    {
     "name": "stdout",
     "output_type": "stream",
     "text": [
      "1D List: [1, 2, 3, 4, 5, 6, 7, 8, 9]\n"
     ]
    }
   ],
   "source": [
    "from functools import reduce\n",
    "two_d_list = [[1, 2, 3], [4, 5], [6, 7, 8, 9]]\n",
    "one_d_list = reduce(lambda x, y: x + y, two_d_list)\n",
    "print(\"1D List:\", one_d_list)\n"
   ]
  },
  {
   "cell_type": "markdown",
   "id": "29610164-e8a8-470c-a520-21bf6761f954",
   "metadata": {},
   "source": [
    "### `Problem 15`- A dictionary contains following information about 5 employees:\n",
    "- First name\n",
    "- Last name\n",
    "- Age\n",
    "- Grade(Skilled,Semi-skilled,Highly skilled)<br>\n",
    "Write a program using map/filter/reduce to a list of employees(first name + last name) who are highly skilled"
   ]
  },
  {
   "cell_type": "code",
   "execution_count": 12,
   "id": "b547364f-fb1d-4293-bb72-a5779d0b8e97",
   "metadata": {},
   "outputs": [
    {
     "name": "stdout",
     "output_type": "stream",
     "text": [
      "Highly skilled employees:\n",
      "Neha Singh\n",
      "Abhinav Sharma\n"
     ]
    }
   ],
   "source": [
    "from functools import reduce\n",
    "employees = [\n",
    "    {'fname':'Nitish', 'lname':'Singh', 'age' : 33, 'grade':'skilled'},\n",
    "    {'fname':'Ankit', 'lname':'Verma', 'age' : 34, 'grade':'semi-skilled'},\n",
    "    {'fname':'Neha', 'lname':'Singh', 'age' : 35, 'grade':'highly-skilled'},\n",
    "    {'fname':'Anurag', 'lname':'Kumar', 'age' : 30, 'grade':'skilled'},\n",
    "    {'fname':'Abhinav', 'lname':'Sharma', 'age' : 37, 'grade':'highly-skilled'}\n",
    "]\n",
    "highly_skilled_employees = filter(lambda emp: emp['grade'].lower() == 'highly-skilled', employees)\n",
    "highly_skilled_names = map(lambda emp: f\"{emp['fname']} {emp['lname']}\", highly_skilled_employees)\n",
    "highly_skilled_names_list = list(highly_skilled_names)\n",
    "print(\"Highly skilled employees:\")\n",
    "for emp_name in highly_skilled_names_list:\n",
    "    print(emp_name)\n"
   ]
  },
  {
   "cell_type": "code",
   "execution_count": null,
   "id": "a80adce1-246a-4f6e-9454-ff7ab69844d6",
   "metadata": {},
   "outputs": [],
   "source": []
  }
 ],
 "metadata": {
  "kernelspec": {
   "display_name": "Python 3 (ipykernel)",
   "language": "python",
   "name": "python3"
  },
  "language_info": {
   "codemirror_mode": {
    "name": "ipython",
    "version": 3
   },
   "file_extension": ".py",
   "mimetype": "text/x-python",
   "name": "python",
   "nbconvert_exporter": "python",
   "pygments_lexer": "ipython3",
   "version": "3.11.7"
  }
 },
 "nbformat": 4,
 "nbformat_minor": 5
}
