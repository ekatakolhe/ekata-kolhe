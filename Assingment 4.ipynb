{
 "cells": [
  {
   "cell_type": "markdown",
   "id": "31ce9062-6095-47ab-b38c-4ef86beeabc3",
   "metadata": {},
   "source": [
    "## TUPLE"
   ]
  },
  {
   "cell_type": "markdown",
   "id": "8205e0f9-41ea-4dc3-b232-ededf09db7fc",
   "metadata": {},
   "source": [
    "### `Q1:` Join Tuples if similar initial element\n",
    "While working with Python tuples, we can have a problem in which we need to perform concatenation of records from the similarity of initial element. This problem can have applications in data domains such as Data Science.\n"
   ]
  },
  {
   "cell_type": "code",
   "execution_count": 4,
   "id": "571596e9-6ed2-4e97-8a2e-b661b2f4ffa9",
   "metadata": {},
   "outputs": [
    {
     "name": "stdout",
     "output_type": "stream",
     "text": [
      "[(5, 6, 7, 8), (6, 10), (7, 13)]\n"
     ]
    }
   ],
   "source": [
    "def concatenate_tuples(test_list):\n",
    "    d = {}\n",
    "    for tup in test_list:\n",
    "        if tup[0] in d:\n",
    "            d[tup[0]].extend(tup[1:])\n",
    "        else:\n",
    "            d[tup[0]] = list(tup)\n",
    "    result = [tuple([key] + d[key][1:]) for key in d]\n",
    "    \n",
    "    return result\n",
    "test_list = [(5, 6), (5, 7), (5, 8), (6, 10), (7, 13)]\n",
    "result = concatenate_tuples(test_list)\n",
    "print(result)\n"
   ]
  },
  {
   "cell_type": "markdown",
   "id": "638fee43-65bc-4874-a64c-9c27375031be",
   "metadata": {},
   "source": [
    "### `Q2:` Multiply Adjacent elements (both side) and take sum of right and lest side multiplication result. \n"
   ]
  },
  {
   "cell_type": "code",
   "execution_count": 5,
   "id": "6a0e86b2-476f-42f8-9f03-1be334b75549",
   "metadata": {},
   "outputs": [
    {
     "name": "stdout",
     "output_type": "stream",
     "text": [
      "[5, 40, 91, 136, 80]\n"
     ]
    }
   ],
   "source": [
    "def multiply_and_sum_adjacent(nums):\n",
    "    n = len(nums)\n",
    "    result = []\n",
    "    \n",
    "    for i in range(n):\n",
    "        left_sum = nums[i] * nums[i-1] if i > 0 else 0\n",
    "        right_sum = nums[i] * nums[i+1] if i < n-1 else 0\n",
    "        result.append(left_sum + right_sum)\n",
    "    \n",
    "    return result\n",
    "nums = [1, 5, 7, 8, 10]\n",
    "result = multiply_and_sum_adjacent(nums)\n",
    "print(result)\n"
   ]
  },
  {
   "cell_type": "markdown",
   "id": "ef59e57b-f3a1-498f-be5b-ce3c653314a8",
   "metadata": {},
   "source": [
    "#### `Q3`: Check is tuples are same or not?\n",
    "Two tuples would be same if both tuples have same element at same index"
   ]
  },
  {
   "cell_type": "code",
   "execution_count": 8,
   "id": "72acf0ba-69c3-43d4-bbe2-e717f37c1bba",
   "metadata": {},
   "outputs": [
    {
     "name": "stdout",
     "output_type": "stream",
     "text": [
      "False\n",
      "True\n"
     ]
    }
   ],
   "source": [
    "def are_tuples_same(t1, t2):\n",
    "    if len(t1) != len(t2):\n",
    "        return False\n",
    "    for i in range(len(t1)):\n",
    "        if t1[i] != t2[i]:\n",
    "            return False\n",
    "    \n",
    "    return True\n",
    "t1 = (1, 2, 3, 0)\n",
    "t2 = (0, 1, 2, 3)\n",
    "print(are_tuples_same(t1, t2))  \n",
    "\n",
    "t3 = (1, 2, 3, 0)\n",
    "t4 = (1, 2, 3, 0)\n",
    "print(are_tuples_same(t3, t4))  \n"
   ]
  },
  {
   "cell_type": "markdown",
   "id": "9c4c414a-60de-48e3-abe5-9620b37551ac",
   "metadata": {},
   "source": [
    "### `Q4`: Count no of tuples, list and set from a list"
   ]
  },
  {
   "cell_type": "code",
   "execution_count": 9,
   "id": "8a308508-2fce-4097-974a-b589ebdd8ff9",
   "metadata": {},
   "outputs": [
    {
     "name": "stdout",
     "output_type": "stream",
     "text": [
      "Sets: 2\n",
      "Tuples: 1\n",
      "Lists: 2\n"
     ]
    }
   ],
   "source": [
    "def count_types_in_list(lst):\n",
    "    set_count = 0\n",
    "    tuple_count = 0\n",
    "    list_count = 0\n",
    "    \n",
    "    for elem in lst:\n",
    "        if isinstance(elem, set):\n",
    "            set_count += 1\n",
    "        elif isinstance(elem, tuple):\n",
    "            tuple_count += 1\n",
    "        elif isinstance(elem, list):\n",
    "            list_count += 1\n",
    "    \n",
    "    return set_count, tuple_count, list_count\n",
    "list1 = [{'hi', 'bye'}, {'Geeks', 'forGeeks'}, ('a', 'b'), ['hi', 'bye'], ['a', 'b']]\n",
    "set_count, tuple_count, list_count = count_types_in_list(list1)\n",
    "\n",
    "print(\"Sets:\", set_count)\n",
    "print(\"Tuples:\", tuple_count)\n",
    "print(\"Lists:\", list_count)\n"
   ]
  },
  {
   "cell_type": "markdown",
   "id": "da1dcf16-681f-4b26-aeb7-1bd5d5c0d781",
   "metadata": {},
   "source": [
    "### `Q5`: Shortlist Students for a Job role\n",
    "Ask user to input students record and store in tuples for each record. Then Ask user to input three things he wants in the candidate- Primary Skill, Higher Education, Year of Graduation.\n",
    "\n",
    "Show every students record in form of tuples if matches all required criteria.\n",
    "\n",
    "It is assumed that there will be only one primry skill.\n",
    "\n",
    "If no such candidate found, print `No such candidate`\n"
   ]
  },
  {
   "cell_type": "code",
   "execution_count": null,
   "id": "38225731-12b8-49d2-addd-c02334ac1382",
   "metadata": {},
   "outputs": [
    {
     "name": "stdin",
     "output_type": "stream",
     "text": [
      "Enter Number of records:  44\n"
     ]
    },
    {
     "name": "stdout",
     "output_type": "stream",
     "text": [
      "Enter Details of student-1\n"
     ]
    },
    {
     "name": "stdin",
     "output_type": "stream",
     "text": [
      "Enter Student name:  manohar\n",
      "Enter Higher Education:  B.Tech\n",
      "Enter Primary Skill:  python\n",
      "Enter Year of Graduation:  2022\n"
     ]
    },
    {
     "name": "stdout",
     "output_type": "stream",
     "text": [
      "Enter Details of student-2\n"
     ]
    }
   ],
   "source": [
    "def shortlist_students():\n",
    "    num_records = int(input(\"Enter Number of records: \"))\n",
    "    students = []\n",
    "    \n",
    "    for i in range(1, num_records + 1):\n",
    "        print(f\"Enter Details of student-{i}\")\n",
    "        name = input(\"Enter Student name: \")\n",
    "        education = input(\"Enter Higher Education: \")\n",
    "        skill = input(\"Enter Primary Skill: \")\n",
    "        graduation_year = input(\"Enter Year of Graduation: \")\n",
    "        \n",
    "        student_record = (name, education, skill, graduation_year)\n",
    "        students.append(student_record)\n",
    "    print(\"\\nEnter Job Role Requirement\")\n",
    "    required_skill = input(\"Enter Skill: \")\n",
    "    required_education = input(\"Enter Higher Education: \")\n",
    "    required_graduation_year = input(\"Enter Year of Graduation: \")\n",
    "    found_candidate = False\n",
    "    \n",
    "    for student in students:\n",
    "        name, education, skill, graduation_year = student\n",
    "        \n",
    "        if (skill == required_skill and\n",
    "            education == required_education and\n",
    "            graduation_year == required_graduation_year):\n",
    "            print(f\"\\nStudent Name: {name}\")\n",
    "            print(f\"Higher Education: {education}\")\n",
    "            print(f\"Primary Skill: {skill}\")\n",
    "            print(f\"Year of Graduation: {graduation_year}\")\n",
    "            found_candidate = True\n",
    "    if not found_candidate:\n",
    "        print(\"No such candidate\")\n",
    "shortlist_students()\n"
   ]
  },
  {
   "cell_type": "markdown",
   "id": "1cad53c0-1548-46b6-9aed-a8d4e8ad9030",
   "metadata": {},
   "source": [
    "# Set"
   ]
  },
  {
   "cell_type": "markdown",
   "id": "23d7b747-af6e-47b9-b00a-508754083aeb",
   "metadata": {},
   "source": [
    "#### `Q1:` Write a program to find set of common elements in three lists using sets."
   ]
  },
  {
   "cell_type": "code",
   "execution_count": 1,
   "id": "078b04e8-ef0a-4f17-a70a-f10b5fc34ffe",
   "metadata": {},
   "outputs": [
    {
     "name": "stdout",
     "output_type": "stream",
     "text": [
      "Common Elements: {80, 20}\n"
     ]
    }
   ],
   "source": [
    "def find_common_elements(ar1, ar2, ar3):\n",
    "    set1 = set(ar1)\n",
    "    set2 = set(ar2)\n",
    "    set3 = set(ar3)\n",
    "    common_elements = set1.intersection(set2, set3)\n",
    "    \n",
    "    return common_elements\n",
    "ar1 = [1, 5, 10, 20, 40, 80]\n",
    "ar2 = [6, 7, 20, 80, 100]\n",
    "ar3 = [3, 4, 15, 20, 30, 70, 80, 120]\n",
    "\n",
    "common_elements = find_common_elements(ar1, ar2, ar3)\n",
    "print(\"Common Elements:\", common_elements)\n"
   ]
  },
  {
   "cell_type": "markdown",
   "id": "2c0d93e2-a141-4c2e-a6a4-c67bd8779899",
   "metadata": {},
   "source": [
    "### `Q3:` Write a program to Check if a given string is binary string of or not. \n",
    "\n",
    "A string is said to be binary if it's consists of only two unique characters.\n",
    "\n",
    "Take string input from user. \n"
   ]
  },
  {
   "cell_type": "markdown",
   "id": "ba2f8c7e-f8a0-437a-954c-46e4d3ad406e",
   "metadata": {},
   "source": [
    "### `Q2:` Write a program to count unique number of vowels using sets in a given string. Lowercase and upercase vowels will be taken as different."
   ]
  },
  {
   "cell_type": "code",
   "execution_count": 4,
   "id": "e014a477-fd88-43ff-b87c-1b0c397a782f",
   "metadata": {},
   "outputs": [
    {
     "name": "stdout",
     "output_type": "stream",
     "text": [
      "Number of unique vowels in the string: 6\n"
     ]
    }
   ],
   "source": [
    "def count_unique_vowels(s):\n",
    "    vowels = set(\"aeiouAEIOU\") \n",
    "    unique_vowels = set()     \n",
    "    for char in s:\n",
    "        if char in vowels:\n",
    "            unique_vowels.add(char)\n",
    "    return len(unique_vowels)\n",
    "Str1 = \"hands-on data science mentorship progrAm with live classes at affordable fee only on CampusX\"\n",
    "unique_vowel_count = count_unique_vowels(Str1)\n",
    "print(f\"Number of unique vowels in the string: {unique_vowel_count}\")\n"
   ]
  },
  {
   "cell_type": "markdown",
   "id": "bd173056-ab70-4b64-939d-142bb240ef24",
   "metadata": {},
   "source": [
    "### `Q3:` Write a program to Check if a given string is binary string of or not. \n",
    "\n",
    "A string is said to be binary if it's consists of only two unique characters.\n",
    "\n",
    "Take string input from user."
   ]
  },
  {
   "cell_type": "code",
   "execution_count": 7,
   "id": "da6b05c1-5182-4765-a7c0-58c785d7991d",
   "metadata": {},
   "outputs": [
    {
     "name": "stdin",
     "output_type": "stream",
     "text": [
      "Enter a string to check if it's a binary string:  01010101010\n"
     ]
    },
    {
     "name": "stdout",
     "output_type": "stream",
     "text": [
      "Yes\n"
     ]
    }
   ],
   "source": [
    "def is_binary_string(s):\n",
    "    unique_chars = set(s)\n",
    "    if len(unique_chars) == 2:\n",
    "        return True\n",
    "    else:\n",
    "        return False\n",
    "input_str = input(\"Enter a string to check if it's a binary string: \")\n",
    "if is_binary_string(input_str):\n",
    "    print(\"Yes\")\n",
    "else:\n",
    "    print(\"No\")\n"
   ]
  },
  {
   "cell_type": "markdown",
   "id": "9f3b6c3f-102a-4580-a6e3-812e65c24e77",
   "metadata": {},
   "source": [
    "### `Q4`: find union of n arrays."
   ]
  },
  {
   "cell_type": "code",
   "execution_count": 8,
   "id": "844f594d-153f-4985-b801-d154e5db7657",
   "metadata": {},
   "outputs": [
    {
     "name": "stdout",
     "output_type": "stream",
     "text": [
      "Union of the arrays: [1, 2, 3, 4, 5, 6, 7, 9]\n"
     ]
    }
   ],
   "source": [
    "def find_union(arrays):\n",
    "    union_set = set()\n",
    "    for array in arrays:\n",
    "        union_set.update(array)\n",
    "    union_list = sorted(list(union_set))\n",
    "    \n",
    "    return union_list\n",
    "arrays = [\n",
    "    [1, 2, 2, 4, 3, 6],\n",
    "    [5, 1, 3, 4],\n",
    "    [9, 5, 7, 1],\n",
    "    [2, 4, 1, 3]\n",
    "]\n",
    "union_result = find_union(arrays)\n",
    "print(\"Union of the arrays:\", union_result)\n"
   ]
  },
  {
   "cell_type": "markdown",
   "id": "629a9636-8b7e-442b-b944-735f6d0910dd",
   "metadata": {},
   "source": [
    "### `Q5`: Intersection of two lists. Intersection of two list means we need to take all those elements which are common to both of the initial lists and store them into another list. Only use using **list-comprehension**."
   ]
  },
  {
   "cell_type": "code",
   "execution_count": 9,
   "id": "1dd9d353-d667-4f38-ae0a-3640a8deb24e",
   "metadata": {},
   "outputs": [
    {
     "name": "stdout",
     "output_type": "stream",
     "text": [
      "Intersection of lst1 and lst2: [4, 5, 9, 10]\n"
     ]
    }
   ],
   "source": [
    "#EXAMPLE 1\n",
    "lst1 = {15, 9, 10, 56, 23, 78, 5, 4, 9}\n",
    "lst2 = {9, 4, 5, 36, 47, 26, 10, 45, 87}\n",
    "intersection = [x for x in lst1 if x in lst2]\n",
    "print(\"Intersection of lst1 and lst2:\", intersection)\n"
   ]
  },
  {
   "cell_type": "code",
   "execution_count": 10,
   "id": "343bd183-ccc3-4809-a3e5-d25d15d4670e",
   "metadata": {},
   "outputs": [
    {
     "name": "stdout",
     "output_type": "stream",
     "text": [
      "Intersection of lst1 and lst2: [9, 11, 26, 28]\n"
     ]
    }
   ],
   "source": [
    "#EXAMPLE 2\n",
    "lst1 = {4, 9, 1, 17, 11, 26, 28, 54, 69}\n",
    "lst2 = {9, 74, 21, 45, 11, 63, 28, 26}\n",
    "intersection = [x for x in lst1 if x in lst2]\n",
    "print(\"Intersection of lst1 and lst2:\", intersection)\n"
   ]
  },
  {
   "cell_type": "markdown",
   "id": "68228bff-3925-4ceb-9800-1ab28204b7e6",
   "metadata": {},
   "source": [
    "# Dictionary"
   ]
  },
  {
   "cell_type": "markdown",
   "id": "e57514b9-ecc8-4f32-9422-7e2426ff7c9e",
   "metadata": {},
   "source": [
    "### `Q1`: Key with maximum unique values\n",
    "\n",
    "Given a dictionary with values list, extract key whose value has most unique values.\n"
   ]
  },
  {
   "cell_type": "code",
   "execution_count": 11,
   "id": "d8d733b9-74b1-412f-b977-dfd8f849cea4",
   "metadata": {},
   "outputs": [
    {
     "name": "stdout",
     "output_type": "stream",
     "text": [
      "Key with maximum unique values: CampusX\n"
     ]
    }
   ],
   "source": [
    "#EXAMPLE 1\n",
    "def key_with_max_unique_values(test_dict):\n",
    "    max_unique_count = -1\n",
    "    max_unique_key = None\n",
    "    \n",
    "    for key, values in test_dict.items():\n",
    "        unique_values = set(values)\n",
    "        unique_count = len(unique_values)\n",
    "        \n",
    "        if unique_count > max_unique_count:\n",
    "            max_unique_count = unique_count\n",
    "            max_unique_key = key\n",
    "    \n",
    "    return max_unique_key\n",
    "test_dict = {\n",
    "    \"CampusX\" : [5, 7, 9, 4, 0],\n",
    "    \"is\" : [6, 7, 4, 3, 3],\n",
    "    \"Best\" : [9, 9, 6, 5, 5]\n",
    "}\n",
    "result_key = key_with_max_unique_values(test_dict)\n",
    "print(\"Key with maximum unique values:\", result_key)\n"
   ]
  },
  {
   "cell_type": "code",
   "execution_count": 12,
   "id": "10a8eb1e-4e56-4b2d-8d71-7edf9728cc26",
   "metadata": {},
   "outputs": [
    {
     "name": "stdout",
     "output_type": "stream",
     "text": [
      "Key with maximum unique values: Best\n"
     ]
    }
   ],
   "source": [
    "#EXAMPLE 2\n",
    "def key_with_max_unique_values(test_dict):\n",
    "    max_unique_count = -1\n",
    "    max_unique_key = None\n",
    "    \n",
    "    for key, values in test_dict.items():\n",
    "        unique_values = set(values)  \n",
    "        unique_count = len(unique_values)\n",
    "        \n",
    "        if unique_count > max_unique_count:\n",
    "            max_unique_count = unique_count\n",
    "            max_unique_key = key\n",
    "    \n",
    "    return max_unique_key\n",
    "test_dict = {\n",
    "    \"CampusX\" : [5, 7, 7, 7, 7],\n",
    "    \"is\" : [6, 7, 7, 7],\n",
    "    \"Best\" : [9, 9, 6, 5, 5]\n",
    "}\n",
    "result_key = key_with_max_unique_values(test_dict)\n",
    "print(\"Key with maximum unique values:\", result_key)\n"
   ]
  },
  {
   "cell_type": "markdown",
   "id": "1f298df6-b529-4fbc-a24e-094c5c16ab79",
   "metadata": {},
   "source": [
    "### `Q2`: Replace words from Dictionary. Given String, replace it’s words from lookup dictionary"
   ]
  },
  {
   "cell_type": "code",
   "execution_count": 14,
   "id": "3cab3034-bf19-4e4a-9a14-b73306eb9fb8",
   "metadata": {},
   "outputs": [
    {
     "name": "stdout",
     "output_type": "stream",
     "text": [
      "Replaced String: CampusX is the best channel for Data-Science students.\n"
     ]
    }
   ],
   "source": [
    "#EXAMPLE 1\n",
    "def replace_words(test_str, repl_dict):\n",
    "    words = test_str.split()\n",
    "    replaced_words = []\n",
    "    for word in words:\n",
    "        if word in repl_dict:\n",
    "            replaced_words.append(repl_dict[word])\n",
    "        else:\n",
    "            replaced_words.append(word)\n",
    "    new_str = ' '.join(replaced_words)\n",
    "    \n",
    "    return new_str\n",
    "test_str = 'CampusX best for DS students.'\n",
    "repl_dict = {\"best\": \"is the best channel\", \"DS\": \"Data-Science\"}\n",
    "result_str = replace_words(test_str, repl_dict)\n",
    "print(\"Replaced String:\", result_str)\n"
   ]
  },
  {
   "cell_type": "code",
   "execution_count": 15,
   "id": "480dae5b-302d-4d20-b64d-8108353e7e4e",
   "metadata": {},
   "outputs": [
    {
     "name": "stdout",
     "output_type": "stream",
     "text": [
      "Original String: CampusX best for DS students.\n",
      "Replaced String: CampusX best for Data-Science students.\n"
     ]
    }
   ],
   "source": [
    "#EXAMPLE 2\n",
    "def replace_words(test_str, repl_dict):\n",
    "    words = test_str.split()\n",
    "    replaced_words = []\n",
    "    for word in words:\n",
    "        if word.lower() in repl_dict:\n",
    "            replaced_words.append(repl_dict[word.lower()])\n",
    "        else:\n",
    "            replaced_words.append(word)\n",
    "    new_str = ' '.join(replaced_words)\n",
    "    return new_str\n",
    "test_str = 'CampusX best for DS students.'\n",
    "repl_dict = {\"good\": \"is the best channel\", \"ds\": \"Data-Science\"}\n",
    "result_str = replace_words(test_str, repl_dict)\n",
    "print(\"Original String:\", test_str)\n",
    "print(\"Replaced String:\", result_str)\n"
   ]
  },
  {
   "cell_type": "markdown",
   "id": "b39f85d2-b692-498e-b4b8-30c1e98a75bb",
   "metadata": {},
   "source": [
    "### `Q3`: Convert List to List of dictionaries. Given list values and keys list, convert these values to key value pairs in form of list of dictionaries.\n"
   ]
  },
  {
   "cell_type": "code",
   "execution_count": 18,
   "id": "86ea2ddb-1293-47c8-83cf-b8f81d314ba6",
   "metadata": {},
   "outputs": [
    {
     "name": "stdout",
     "output_type": "stream",
     "text": [
      "List of dictionaries: [{'name': 'DataScience'}, {'id': 3}]\n"
     ]
    }
   ],
   "source": [
    "#EXAMPLE 1\n",
    "def list_to_list_of_dicts(test_list, key_list):\n",
    "    result_list = []\n",
    "    min_length = min(len(test_list), len(key_list))\n",
    "    for i in range(min_length):\n",
    "        dict_item = {key_list[i]: test_list[i]}\n",
    "        result_list.append(dict_item)\n",
    "    \n",
    "    return result_list\n",
    "test_list = [\"DataScience\", 3, \"is\", 8]\n",
    "key_list = [\"name\", \"id\"]\n",
    "result_list = list_to_list_of_dicts(test_list, key_list)\n",
    "print(\"List of dictionaries:\", result_list)\n"
   ]
  },
  {
   "cell_type": "code",
   "execution_count": 19,
   "id": "2a3e7794-b0e2-4651-958e-6dae0a9fa001",
   "metadata": {},
   "outputs": [
    {
     "name": "stdout",
     "output_type": "stream",
     "text": [
      "List of dictionaries: [{'name': 'CampusX'}, {'id': 10}]\n"
     ]
    }
   ],
   "source": [
    "#EXAMPLE 2\n",
    "def list_to_list_of_dicts(test_list, key_list):\n",
    "    result_list = []\n",
    "    for i in range(len(key_list)\n",
    "        dict_item = {key_list[i]: test_list[i]}\n",
    "        result_list.append(dict_item)\n",
    "    \n",
    "    return result_list\n",
    "test_list = [\"CampusX\", 10]\n",
    "key_list = [\"name\", \"id\"]\n",
    "result_list = list_to_list_of_dicts(test_list, key_list)\n",
    "print(\"List of dictionaries:\", result_list)\n"
   ]
  },
  {
   "cell_type": "markdown",
   "id": "f870a25e-0e18-45d6-8ee0-ae0403fee9c3",
   "metadata": {},
   "source": [
    "### `Q4`: Convert a list of Tuples into Dictionary.\n"
   ]
  },
  {
   "cell_type": "code",
   "execution_count": 20,
   "id": "f03b5ff2-72ae-49f0-9d2e-6ec6ae972197",
   "metadata": {},
   "outputs": [
    {
     "name": "stdout",
     "output_type": "stream",
     "text": [
      "Resulting Dictionary: {'akash': 10, 'gaurav': 12, 'anand': 14, 'suraj': 20, 'akhil': 25, 'ashish': 30}\n"
     ]
    }
   ],
   "source": [
    "#EXAMPLE 1\n",
    "input_list = [(\"akash\", 10), (\"gaurav\", 12), (\"anand\", 14), (\"suraj\", 20), (\"akhil\", 25), (\"ashish\", 30)]\n",
    "output_dict = dict(input_list)\n",
    "print(\"Resulting Dictionary:\", output_dict)\n"
   ]
  },
  {
   "cell_type": "code",
   "execution_count": 22,
   "id": "3183e38b-4d87-44cb-8974-a2bfbfe37118",
   "metadata": {},
   "outputs": [
    {
     "name": "stdout",
     "output_type": "stream",
     "text": [
      "Resulting Dictionary: {'A': [1], 'B': [2], 'C': [3]}\n"
     ]
    }
   ],
   "source": [
    "#EXAMPLE 2\n",
    "input_list = [('A', [1]), ('B', [2]), ('C', [3])]\n",
    "output_dict = {key: value for key, value in input_list}\n",
    "print(\"Resulting Dictionary:\", output_dict)\n"
   ]
  },
  {
   "cell_type": "markdown",
   "id": "da53fe69-f937-4022-a17e-970fe0444c9a",
   "metadata": {},
   "source": [
    "### `Q5`: Sort Dictionary key and values List.\n"
   ]
  },
  {
   "cell_type": "code",
   "execution_count": 23,
   "id": "0e17953e-a876-4f8a-89e4-0624bdf9e506",
   "metadata": {},
   "outputs": [
    {
     "name": "stdout",
     "output_type": "stream",
     "text": [
      "Sorted Dictionary:\n",
      "a: [4, 19]\n",
      "b: [10, 12]\n",
      "c: [3]\n"
     ]
    }
   ],
   "source": [
    "#EXAMPLE 1\n",
    "input_dict = {'c': [3], 'b': [12, 10], 'a': [19, 4]}\n",
    "sorted_keys = sorted(input_dict.keys())\n",
    "sorted_dict = {key: sorted(input_dict[key]) for key in sorted_keys}\n",
    "print(\"Sorted Dictionary:\")\n",
    "for key in sorted_dict:\n",
    "    print(f\"{key}: {sorted_dict[key]}\")\n"
   ]
  },
  {
   "cell_type": "code",
   "execution_count": 1,
   "id": "82939f25-c610-44a6-b411-a5bb1faf3011",
   "metadata": {},
   "outputs": [
    {
     "name": "stdout",
     "output_type": "stream",
     "text": [
      "{'c': [3, 10, 34]}\n"
     ]
    }
   ],
   "source": [
    "#EXAMPLE 2\n",
    "input_dict = {'c': [10, 34, 3]}\n",
    "sorted_keys = sorted(input_dict.keys())\n",
    "sorted_dict = {}\n",
    "for key in sorted_keys:\n",
    "    sorted_dict[key] = sorted(input_dict[key])\n",
    "print(sorted_dict)\n"
   ]
  },
  {
   "cell_type": "code",
   "execution_count": null,
   "id": "87f7fe99-59e4-450f-b8ac-46b8932e3a54",
   "metadata": {},
   "outputs": [],
   "source": []
  }
 ],
 "metadata": {
  "kernelspec": {
   "display_name": "Python 3 (ipykernel)",
   "language": "python",
   "name": "python3"
  },
  "language_info": {
   "codemirror_mode": {
    "name": "ipython",
    "version": 3
   },
   "file_extension": ".py",
   "mimetype": "text/x-python",
   "name": "python",
   "nbconvert_exporter": "python",
   "pygments_lexer": "ipython3",
   "version": "3.11.7"
  }
 },
 "nbformat": 4,
 "nbformat_minor": 5
}
