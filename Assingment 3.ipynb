{
 "cells": [
  {
   "cell_type": "markdown",
   "id": "eda603d9-8c74-41c3-b637-7239ef934153",
   "metadata": {},
   "source": [
    "## Q 1 \n",
    "# Create 2 lists from a given list where \n",
    "# 1st list will contain all the odd numbers from the original list and\n",
    "# the 2nd one will contain all the even numbers\n",
    "L = [1,2,3,4,5,6]"
   ]
  },
  {
   "cell_type": "code",
   "execution_count": 1,
   "id": "99df6acc-56bc-4818-92f2-79f1a41d827f",
   "metadata": {},
   "outputs": [
    {
     "name": "stdout",
     "output_type": "stream",
     "text": [
      "Original List: [1, 2, 3, 4, 5, 6]\n",
      "Odd Numbers: [1, 3, 5]\n",
      "Even Numbers: [2, 4, 6]\n"
     ]
    }
   ],
   "source": [
    "def separate_odd_even(L):\n",
    "    odd_list = []\n",
    "    even_list = []\n",
    "    \n",
    "    for num in L:\n",
    "        if num % 2 == 0:\n",
    "            even_list.append(num)\n",
    "        else:\n",
    "            odd_list.append(num)\n",
    "    \n",
    "    return odd_list, even_list\n",
    "L = [1, 2, 3, 4, 5, 6]\n",
    "\n",
    "odd_numbers, even_numbers = separate_odd_even(L)\n",
    "\n",
    "print(\"Original List:\", L)\n",
    "print(\"Odd Numbers:\", odd_numbers)\n",
    "print(\"Even Numbers:\", even_numbers)\n"
   ]
  },
  {
   "cell_type": "markdown",
   "id": "a843a761-0085-4266-896f-1c4fb29fc94c",
   "metadata": {},
   "source": [
    "### Q 2\n",
    "# How to take list as input from user"
   ]
  },
  {
   "cell_type": "code",
   "execution_count": 2,
   "id": "11f0751c-66a7-450e-8776-4ec2ca896b06",
   "metadata": {},
   "outputs": [
    {
     "name": "stdin",
     "output_type": "stream",
     "text": [
      "Enter elements of the list separated by space:  34 \n"
     ]
    },
    {
     "name": "stdout",
     "output_type": "stream",
     "text": [
      "List entered by user: [34]\n"
     ]
    }
   ],
   "source": [
    "input_str = input(\"Enter elements of the list separated by space: \")\n",
    "elements = input_str.split()\n",
    "\n",
    "num_list = [int(element) for element in elements]\n",
    "\n",
    "print(\"List entered by user:\", num_list)\n"
   ]
  },
  {
   "cell_type": "markdown",
   "id": "8f130906-e585-4430-bb7a-a94e5f838444",
   "metadata": {},
   "source": [
    "### Q 3  Write a program to merge 2 list without using the + operator\n",
    "L1 = [1,2,3,4]   \n",
    "L2 = [5,6,7,8]"
   ]
  },
  {
   "cell_type": "code",
   "execution_count": 3,
   "id": "62459bb7-ce92-4711-87b6-3e3660413754",
   "metadata": {},
   "outputs": [
    {
     "name": "stdout",
     "output_type": "stream",
     "text": [
      "Merged list using extend(): [1, 2, 3, 4, 5, 6, 7, 8]\n"
     ]
    }
   ],
   "source": [
    "L1 = [1, 2, 3, 4]\n",
    "L2 = [5, 6, 7, 8]\n",
    "\n",
    "merged_list = L1.copy()  \n",
    "merged_list.extend(L2)   \n",
    "\n",
    "print(\"Merged list using extend():\", merged_list)\n"
   ]
  },
  {
   "cell_type": "markdown",
   "id": "84e6f299-2e6a-40a4-bff5-c6e14470c68a",
   "metadata": {},
   "source": [
    "### Q 4 Write a program to replace an item with a different item if found in the list \n",
    "L = [1,2,3,4,5,3]\n",
    "#### replace 3 with 300"
   ]
  },
  {
   "cell_type": "code",
   "execution_count": 4,
   "id": "2f772436-41f3-421b-b415-ff8195c95375",
   "metadata": {},
   "outputs": [
    {
     "name": "stdout",
     "output_type": "stream",
     "text": [
      "Modified list: [1, 2, 300, 4, 5, 300]\n"
     ]
    }
   ],
   "source": [
    "def replace_item(lst, old_item, new_item):\n",
    "    for i in range(len(lst)):\n",
    "        if lst[i] == old_item:\n",
    "            lst[i] = new_item\n",
    "\n",
    "L = [1, 2, 3, 4, 5, 3]\n",
    "replace_item(L, 3, 300)\n",
    "print(\"Modified list:\", L)\n"
   ]
  },
  {
   "cell_type": "markdown",
   "id": "4f757b52-f8bc-4df7-84e5-226375a23dae",
   "metadata": {},
   "source": [
    "### Q 5 Write a program that can convert a 2D list to 1D list"
   ]
  },
  {
   "cell_type": "code",
   "execution_count": 1,
   "id": "8fecb001-64b8-46db-afe1-7424a732f925",
   "metadata": {},
   "outputs": [
    {
     "name": "stdout",
     "output_type": "stream",
     "text": [
      "Flattened list: [1, 2, 3, 4, 5, 6, 7, 8, 9]\n"
     ]
    }
   ],
   "source": [
    "def flatten_2d_list(arr_2d):\n",
    "    flattened_list = []\n",
    "    \n",
    "    for sublist in arr_2d:\n",
    "        flattened_list.extend(sublist)\n",
    "    \n",
    "    return flattened_list\n",
    "\n",
    "# Example 2D list\n",
    "arr_2d = [\n",
    "    [1, 2, 3],\n",
    "    [4, 5],\n",
    "    [6, 7, 8, 9]\n",
    "]\n",
    "\n",
    "# Convert 2D list to 1D list\n",
    "flattened_list = flatten_2d_list(arr_2d\n",
    "print(\"Flattened list:\", flattened_list)\n"
   ]
  },
  {
   "cell_type": "markdown",
   "id": "9ff94be3-f33f-4900-bbc3-9a11da679be6",
   "metadata": {},
   "source": [
    "## Q 6  Write a program to remove duplicate items from a list\n",
    "\n",
    "L = [1,2,1,2,3,4,5,3,4]"
   ]
  },
  {
   "cell_type": "code",
   "execution_count": 2,
   "id": "f4b00fbc-fd9a-4a1c-b12b-6d1a9b7306c2",
   "metadata": {},
   "outputs": [
    {
     "name": "stdout",
     "output_type": "stream",
     "text": [
      "[1, 2, 3, 4, 5]\n"
     ]
    }
   ],
   "source": [
    "def remove_duplicates(input_list):\n",
    "    seen = set()\n",
    "    result = []\n",
    "    for item in input_list:\n",
    "        if item not in seen:\n",
    "            seen.add(item)\n",
    "            result.append(item)\n",
    "    return result\n",
    "\n",
    "# Example usage\n",
    "L = [1, 2, 1, 2, 3, 4, 5, 3, 4]\n",
    "unique_list = remove_duplicates(L)\n",
    "print(unique_list)"
   ]
  },
  {
   "cell_type": "markdown",
   "id": "5c294765-c2c2-45c6-9cbc-0c26ed2bbc60",
   "metadata": {},
   "source": [
    "### Q 7  Write a program to check if a list is in ascending order or not"
   ]
  },
  {
   "cell_type": "code",
   "execution_count": 3,
   "id": "d410f238-b249-4b45-a670-30886e1ff5ae",
   "metadata": {},
   "outputs": [
    {
     "name": "stdout",
     "output_type": "stream",
     "text": [
      "List1 is ascending: True\n",
      "List2 is ascending: False\n",
      "List3 is ascending: False\n"
     ]
    }
   ],
   "source": [
    "def is_ascending(input_list):\n",
    "    # Check if each element is less than or equal to the next one\n",
    "    for i in range(len(input_list) - 1):\n",
    "        if input_list[i] > input_list[i + 1]:\n",
    "            return False\n",
    "    return True\n",
    "\n",
    "# Example usage:\n",
    "if __name__ == \"__main__\":\n",
    "    # Example lists\n",
    "    list1 = [1, 2, 3, 4, 5]\n",
    "    list2 = [1, 3, 2, 4, 5]\n",
    "    list3 = [5, 4, 3, 2, 1]\n",
    "    \n",
    "    # Check if each list is in ascending order\n",
    "    print(\"List1 is ascending:\", is_ascending(list1))\n",
    "    print(\"List2 is ascending:\", is_ascending(list2))\n",
    "    print(\"List3 is ascending:\", is_ascending(list3))\n"
   ]
  },
  {
   "cell_type": "code",
   "execution_count": null,
   "id": "5f3f816a-4497-41bc-a4df-18d86370de9f",
   "metadata": {},
   "outputs": [],
   "source": []
  }
 ],
 "metadata": {
  "kernelspec": {
   "display_name": "Python 3 (ipykernel)",
   "language": "python",
   "name": "python3"
  },
  "language_info": {
   "codemirror_mode": {
    "name": "ipython",
    "version": 3
   },
   "file_extension": ".py",
   "mimetype": "text/x-python",
   "name": "python",
   "nbconvert_exporter": "python",
   "pygments_lexer": "ipython3",
   "version": "3.11.7"
  }
 },
 "nbformat": 4,
 "nbformat_minor": 5
}
