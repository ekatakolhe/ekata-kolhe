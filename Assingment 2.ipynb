{
 "cells": [
  {
   "cell_type": "markdown",
   "id": "ecd43c59-c21c-4ad7-9271-48b50daed3aa",
   "metadata": {},
   "source": [
    "### `Problem 1` - Print the following pattern. Write a program to use for loop to print the following reverse number pattern."
   ]
  },
  {
   "cell_type": "code",
   "execution_count": 1,
   "id": "6a6ec314-ed08-444a-9cfa-9d5e8208af12",
   "metadata": {},
   "outputs": [
    {
     "name": "stdout",
     "output_type": "stream",
     "text": [
      "5 4 3 2 1 \n",
      "4 3 2 1 \n",
      "3 2 1 \n",
      "2 1 \n",
      "1 \n"
     ]
    }
   ],
   "source": [
    "def print_reverse_number_pattern(n):\n",
    "    \"\"\"\n",
    "    Print the reverse number pattern as described.\n",
    "    \n",
    "    Parameters:\n",
    "    n (int): The number of rows in the pattern.\n",
    "    \"\"\"\n",
    "    for i in range(n, 0, -1):  # Loop for rows from n to 1 in reverse order\n",
    "        for j in range(i, 0, -1):  # Loop for numbers in each row in reverse order\n",
    "            print(j, end=\" \")\n",
    "        print()  # Move to the next line after printing each row\n",
    "\n",
    "# Example usage:\n",
    "rows = 5\n",
    "print_reverse_number_pattern(rows)"
   ]
  },
  {
   "cell_type": "markdown",
   "id": "4a2783b9-fdc4-4704-bcd4-1083313cecdb",
   "metadata": {},
   "source": [
    "### `Problem 2`: Print the following pattern."
   ]
  },
  {
   "cell_type": "code",
   "execution_count": 2,
   "id": "dd9a9362-15bf-4217-abe9-22ad1bd72cf1",
   "metadata": {},
   "outputs": [
    {
     "name": "stdout",
     "output_type": "stream",
     "text": [
      "* \n",
      "* * \n",
      "* * * \n",
      "* * * * \n",
      "* * * * * \n",
      "* * * * \n",
      "* * * \n",
      "* * \n",
      "* \n"
     ]
    }
   ],
   "source": [
    "def print_pattern(rows):\n",
    "    # First half of the pattern\n",
    "    for i in range(1, rows + 1):\n",
    "        for j in range(1, i + 1):\n",
    "            print(\"*\", end=\" \")\n",
    "        print()\n",
    "    \n",
    "    # Second half of the pattern\n",
    "    for i in range(rows - 1, 0, -1):\n",
    "        for j in range(1, i + 1):\n",
    "            print(\"*\", end=\" \")\n",
    "        print()\n",
    "\n",
    "# Number of rows in the pattern (adjust this value to change the size of the pattern)\n",
    "rows = 5\n",
    "print_pattern(rows)"
   ]
  },
  {
   "cell_type": "markdown",
   "id": "295a8307-981d-4e20-b087-b2366bf00a42",
   "metadata": {},
   "source": [
    "### `Problem 3`:Write a program to pring the following pattern"
   ]
  },
  {
   "cell_type": "code",
   "execution_count": 3,
   "id": "d8af7310-ba46-4bd5-a60f-8feb8abb3a39",
   "metadata": {},
   "outputs": [
    {
     "name": "stdout",
     "output_type": "stream",
     "text": [
      "    * \n",
      "  * * * \n",
      "* * * * * \n"
     ]
    }
   ],
   "source": [
    "def print_pattern():\n",
    "    rows = 3  # Number of rows in the pattern\n",
    "    \n",
    "    # Iterate through each row\n",
    "    for i in range(rows):\n",
    "        # Print spaces before the stars\n",
    "        for j in range(rows - i - 1):\n",
    "            print(\" \", end=\" \")\n",
    "        \n",
    "        # Print stars\n",
    "        for k in range(2*i + 1):\n",
    "            print(\"*\", end=\" \")\n",
    "        \n",
    "        # Move to the next line after each row is printed\n",
    "        print()\n",
    "  # call the function to print the pattern \n",
    "print_pattern()"
   ]
  },
  {
   "cell_type": "markdown",
   "id": "cd2e1a67-f7a4-43f0-8270-98744122314e",
   "metadata": {},
   "source": [
    "### `Problem 4`:Write a program to print the following pattern"
   ]
  },
  {
   "cell_type": "code",
   "execution_count": 4,
   "id": "ac92d511-bed0-47b2-8e4d-71337dd2dd49",
   "metadata": {},
   "outputs": [
    {
     "name": "stdout",
     "output_type": "stream",
     "text": [
      "Pattern:\n",
      "2 1 \n",
      "3 2 1 \n",
      "4 3 2 1 \n",
      "5 4 3 2 1 \n"
     ]
    }
   ],
   "source": [
    "def print_pattern(rows):\n",
    "    for i in range(2, rows + 2):\n",
    "        # Print numbers in descending order from i to 1\n",
    "        for j in range(i, 0, -1):\n",
    "            print(j, end=' ')\n",
    "        print()  # Move to the next line after each row\n",
    "\n",
    "# Number of rows in the pattern\n",
    "rows = 4\n",
    "\n",
    "print(\"Pattern:\")\n",
    "print_pattern(rows)"
   ]
  },
  {
   "cell_type": "markdown",
   "id": "b907517f-cc07-40a4-a5b2-b340d1adfa3a",
   "metadata": {},
   "source": [
    "### `Problem 5`: Write a Python Program to Find the Sum of the Series till the nth term:<br>"
   ]
  },
  {
   "cell_type": "code",
   "execution_count": 3,
   "id": "848dbd6e-73a5-4eed-a3f2-dd6ee8b48057",
   "metadata": {},
   "outputs": [
    {
     "name": "stdin",
     "output_type": "stream",
     "text": [
      "Enter the value of n:  5\n"
     ]
    },
    {
     "name": "stdout",
     "output_type": "stream",
     "text": [
      "Sum of the series up to 5 terms is: 15\n"
     ]
    }
   ],
   "source": [
    "def sum_of_series(n):\n",
    "    # Calculate the sum of the series 1 + 2 + 3 + ... + n\n",
    "    series_sum = (n * (n + 1)) // 2\n",
    "    return series_sum\n",
    "\n",
    "# Input number of terms (n)\n",
    "n = int(input(\"Enter the value of n: \"))\n",
    "\n",
    "# Calculate the sum of the series up to nth term\n",
    "result = sum_of_series(n)\n",
    "\n",
    "# Print the result\n",
    "print(f\"Sum of the series up to {n} terms is: {result}\")\n"
   ]
  },
  {
   "cell_type": "markdown",
   "id": "b755b60a-b20a-40e5-bdb0-66db5d0ac129",
   "metadata": {},
   "source": [
    "## `Problem 6`: The natural logarithm can be approximated by the following series."
   ]
  },
  {
   "cell_type": "code",
   "execution_count": 4,
   "id": "7b02bbc9-a088-49e3-923d-adbb9aa3751d",
   "metadata": {},
   "outputs": [
    {
     "name": "stdout",
     "output_type": "stream",
     "text": [
      "Approximation of ln(1.5) using 10 terms is: 0.5945653521825398\n"
     ]
    }
   ],
   "source": [
    "def natural_log(x, n):\n",
    "    if x <= 0:\n",
    "        raise ValueError(\"x must be greater than 0\")\n",
    "\n",
    "    # Initialize the sum with the first term of the series\n",
    "    sum_ln = x - 1\n",
    "\n",
    "    # Calculate subsequent terms of the series\n",
    "    sign = -1\n",
    "    power = x - 1  # (x - 1)^1\n",
    "    for i in range(2, n + 1):\n",
    "        sign *= -1\n",
    "        power *= (x - 1)\n",
    "        term = sign * power / i\n",
    "        sum_ln += term\n",
    "\n",
    "    return sum_ln\n",
    "\n",
    "# Example usage:\n",
    "x = 1.5\n",
    "n = 10  # Number of terms to compute\n",
    "\n",
    "approx_ln = natural_log(x, n)\n",
    "print(f\"Approximation of ln({x}) using {n} terms is: {approx_ln}\")\n"
   ]
  },
  {
   "cell_type": "markdown",
   "id": "10795343-bb0f-4895-9c81-6919b3d2409f",
   "metadata": {},
   "source": [
    "### `Problem 7` - Find the sum of the series upto n terms."
   ]
  },
  {
   "cell_type": "code",
   "execution_count": null,
   "id": "21b83ba1-a73c-4ab4-9a35-053582e1e56d",
   "metadata": {},
   "outputs": [],
   "source": [
    "def calculate_series_sum(n):\n",
    "    terms = []\n",
    "    current_term = 0\n",
    "    \n",
    "    for i in range(1, n + 1):\n",
    "        current_term = current_term * 10 + 2\n",
    "        terms.append(current_term)\n",
    "    \n",
    "    series_sum = sum(terms)\n",
    "    \n",
    "    return terms, series_sum\n",
    "\n",
    "# Input the value of n from the keyboard\n",
    "n = int(input(\"Enter the number of terms: \"))\n",
    "\n",
    "# Calculate the series and its sum\n",
    "terms, series_sum = calculate_series_sum(n)\n",
    "\n",
    "# Print the terms in the specified format\n",
    "print('+'.join(map(str, terms)))\n",
    "print(f\"Sum of above series is: {series_sum}\")"
   ]
  },
  {
   "cell_type": "markdown",
   "id": "31280f9c-8f23-4d49-8c46-43729b03b50d",
   "metadata": {},
   "source": [
    "### `Problem 8`: Write a program to print all the unique combinations of 1,2,3 and 4 "
   ]
  },
  {
   "cell_type": "code",
   "execution_count": 15,
   "id": "6f17f7d8-3929-4dc9-b9c2-6f309217e14d",
   "metadata": {},
   "outputs": [
    {
     "name": "stdout",
     "output_type": "stream",
     "text": [
      "1 2 3 4\n",
      "1 2 4 3\n",
      "1 3 2 4\n",
      "1 3 4 2\n",
      "1 4 2 3\n",
      "1 4 3 2\n",
      "2 1 3 4\n",
      "2 1 4 3\n",
      "2 3 1 4\n",
      "2 3 4 1\n",
      "2 4 1 3\n",
      "2 4 3 1\n",
      "3 1 2 4\n",
      "3 1 4 2\n",
      "3 2 1 4\n",
      "3 2 4 1\n",
      "3 4 1 2\n",
      "3 4 2 1\n",
      "4 1 2 3\n",
      "4 1 3 2\n",
      "4 2 1 3\n",
      "4 2 3 1\n",
      "4 3 1 2\n",
      "4 3 2 1\n"
     ]
    }
   ],
   "source": [
    "from itertools import permutations\n",
    "\n",
    "# Define the list of numbers\n",
    "numbers = [1, 2, 3, 4]\n",
    "\n",
    "# Generate all unique permutations of the list\n",
    "all_permutations = permutations(numbers)\n",
    "\n",
    "# Print each permutation\n",
    "for perm in all_permutations:\n",
    "    print(' '.join(map(str, perm)))"
   ]
  },
  {
   "cell_type": "markdown",
   "id": "36eb786d-0781-42e6-9675-5909ac7766b7",
   "metadata": {},
   "source": [
    "### `Problem 9`: Write a program that will take a decimal number as input and prints out the binary equivalent of the number"
   ]
  },
  {
   "cell_type": "code",
   "execution_count": 17,
   "id": "7f2c1da1-8b06-4047-9584-7ec8b68653a8",
   "metadata": {},
   "outputs": [
    {
     "name": "stdin",
     "output_type": "stream",
     "text": [
      "Enter a decimal number:  9\n"
     ]
    },
    {
     "name": "stdout",
     "output_type": "stream",
     "text": [
      "The binary equivalent of 9 is: 1001\n"
     ]
    }
   ],
   "source": [
    "def decimal_to_binary(n):\n",
    "    if n == 0:\n",
    "        return \"0\"\n",
    "    binary_num = \"\"\n",
    "    while n > 0:\n",
    "        binary_num = str(n % 2) + binary_num\n",
    "        n = n // 2\n",
    "    return binary_num\n",
    "\n",
    "# Input the decimal number from the keyboard\n",
    "decimal_number = int(input(\"Enter a decimal number: \"))\n",
    "\n",
    "# Convert to binary and print the result\n",
    "binary_equivalent = decimal_to_binary(decimal_number)\n",
    "print(f\"The binary equivalent of {decimal_number} is: {binary_equivalent}\")"
   ]
  },
  {
   "cell_type": "markdown",
   "id": "53d26b98-ac9c-4e21-8d42-adf3fa5c0c9f",
   "metadata": {},
   "source": [
    "### `Problem 10`: Write a program that will take 2 numbers as input and prints the LCM and HCF of those 2 numbers"
   ]
  },
  {
   "cell_type": "code",
   "execution_count": 18,
   "id": "1eb80311-aec3-4b6a-952c-b1189c220261",
   "metadata": {},
   "outputs": [
    {
     "name": "stdin",
     "output_type": "stream",
     "text": [
      "Enter the first number:  22\n",
      "Enter the second number:  66\n"
     ]
    },
    {
     "name": "stdout",
     "output_type": "stream",
     "text": [
      "The HCF (GCD) of 22 and 66 is: 22\n",
      "The LCM of 22 and 66 is: 66\n"
     ]
    }
   ],
   "source": [
    "import math\n",
    "\n",
    "def calculate_hcf(x, y):\n",
    "    return math.gcd(x, y)\n",
    "\n",
    "def calculate_lcm(x, y):\n",
    "    return abs(x * y) // calculate_hcf(x, y)\n",
    "\n",
    "# Input two numbers from the keyboard\n",
    "num1 = int(input(\"Enter the first number: \"))\n",
    "num2 = int(input(\"Enter the second number: \"))\n",
    "\n",
    "# Calculate HCF (GCD) and LCM\n",
    "hcf = calculate_hcf(num1, num2)\n",
    "lcm = calculate_lcm(num1, num2)\n",
    "\n",
    "# Print the results\n",
    "print(f\"The HCF (GCD) of {num1} and {num2} is: {hcf}\")\n",
    "print(f\"The LCM of {num1} and {num2} is: {lcm}\")"
   ]
  },
  {
   "cell_type": "markdown",
   "id": "90419f9c-a1a2-404b-b16b-82936325cd64",
   "metadata": {},
   "source": [
    "### **Problem 11:** Create Short Form from initial character"
   ]
  },
  {
   "cell_type": "code",
   "execution_count": 19,
   "id": "54baa7aa-3219-48bf-affa-a71f0d2da70f",
   "metadata": {},
   "outputs": [
    {
     "name": "stdin",
     "output_type": "stream",
     "text": [
      "Enter the phrase:  Data science mentorship program\n"
     ]
    },
    {
     "name": "stdout",
     "output_type": "stream",
     "text": [
      "The short form of the input is: DSMP\n"
     ]
    }
   ],
   "source": [
    "def create_short_form(phrase):\n",
    "    # Split the phrase into words\n",
    "    words = phrase.split()\n",
    "    \n",
    "    # Extract the first character of each word and capitalize it\n",
    "    short_form = ''.join(word[0].upper() for word in words)\n",
    "    \n",
    "    return short_form\n",
    "\n",
    "# Input the phrase from the keyboard\n",
    "input_phrase = input(\"Enter the phrase: \")\n",
    "\n",
    "# Create the short form\n",
    "short_form = create_short_form(input_phrase)\n",
    "\n",
    "# Print the result\n",
    "print(f\"The short form of the input is: {short_form}\")"
   ]
  },
  {
   "cell_type": "markdown",
   "id": "1b7b201c-e355-417c-b543-bf5c483eed1d",
   "metadata": {},
   "source": [
    "### `Problem 12`: Append second string in the middle of first string"
   ]
  },
  {
   "cell_type": "code",
   "execution_count": 20,
   "id": "ff0822eb-22cd-48d1-b8b9-f1d5282f03c5",
   "metadata": {},
   "outputs": [
    {
     "name": "stdin",
     "output_type": "stream",
     "text": [
      "Enter the first string:  data\n",
      "Enter the second string:  science\n"
     ]
    },
    {
     "name": "stdout",
     "output_type": "stream",
     "text": [
      "The result of appending the second string in the middle of the first string is: dascienceta\n"
     ]
    }
   ],
   "source": [
    "def append_in_middle(first, second):\n",
    "    middle_index = len(first) // 2\n",
    "    result = first[:middle_index] + second + first[middle_index:]\n",
    "    return result\n",
    "\n",
    "# Input the two strings from the keyboard\n",
    "first_string = input(\"Enter the first string: \")\n",
    "second_string = input(\"Enter the second string: \")\n",
    "\n",
    "# Append the second string in the middle of the first string\n",
    "result_string = append_in_middle(first_string, second_string)\n",
    "\n",
    "# Print the result\n",
    "print(f\"The result of appending the second string in the middle of the first string is: {result_string}\")"
   ]
  },
  {
   "cell_type": "markdown",
   "id": "97269413-3f31-47ba-9c08-f8f1f4254787",
   "metadata": {},
   "source": [
    "### ``Problem 13``:Given string contains a combination of the lower and upper case letters. Write a program to arrange the characters of a string so that all lowercase letters should come first."
   ]
  },
  {
   "cell_type": "code",
   "execution_count": 21,
   "id": "a5462ca6-82ef-46a7-856a-f76404fcdb80",
   "metadata": {},
   "outputs": [
    {
     "name": "stdout",
     "output_type": "stream",
     "text": [
      "Arranged string: yaivePNT\n"
     ]
    }
   ],
   "source": [
    "def arrange_string(input_str):\n",
    "    lower_case = ''.join([char for char in input_str if char.islower()])\n",
    "    upper_case = ''.join([char for char in input_str if char.isupper()])\n",
    "    return lower_case + upper_case\n",
    "\n",
    "# Given string\n",
    "str1 = \"PyNaTive\"\n",
    "\n",
    "# Arrange the string\n",
    "result = arrange_string(str1)\n",
    "\n",
    "# Print the result\n",
    "print(f\"Arranged string: {result}\")"
   ]
  },
  {
   "cell_type": "markdown",
   "id": "f9782f3c-361f-454c-be7e-b6ead840faa6",
   "metadata": {},
   "source": [
    "### `Problem 14:`Take a alphanumeric string input and print the sum and average of the digits that appear in the string, ignoring all other characters.\n"
   ]
  },
  {
   "cell_type": "code",
   "execution_count": 22,
   "id": "bda518a6-09ab-43fd-b56d-19c9f9cb3f0c",
   "metadata": {},
   "outputs": [
    {
     "name": "stdin",
     "output_type": "stream",
     "text": [
      "Enter the alphanumeric string:  'hel123O4every093`\n"
     ]
    },
    {
     "name": "stdout",
     "output_type": "stream",
     "text": [
      "Sum: 22\n",
      "Avg: 3.14\n"
     ]
    }
   ],
   "source": [
    "def calculate_sum_and_average(input_str):\n",
    "    digits = [int(char) for char in input_str if char.isdigit()]\n",
    "    if not digits:\n",
    "        return 0, 0.0\n",
    "    \n",
    "    total_sum = sum(digits)\n",
    "    average = total_sum / len(digits)\n",
    "    return total_sum, average\n",
    "\n",
    "# Input the alphanumeric string from the keyboard\n",
    "input_string = input(\"Enter the alphanumeric string: \")\n",
    "\n",
    "# Calculate sum and average of digits\n",
    "total_sum, average = calculate_sum_and_average(input_string)\n",
    "\n",
    "# Print the results\n",
    "print(f\"Sum: {total_sum}\")\n",
    "print(f\"Avg: {average:.2f}\")"
   ]
  },
  {
   "cell_type": "markdown",
   "id": "f7b133bd-55be-42f2-b16e-0fadf69de6cf",
   "metadata": {},
   "source": [
    "## `Problem 15:` Removal of all characters from a string except integers\n",
    "`Given:`\n"
   ]
  },
  {
   "cell_type": "code",
   "execution_count": 26,
   "id": "383257ed-4af1-4622-8385-295d76e00528",
   "metadata": {},
   "outputs": [
    {
     "name": "stdout",
     "output_type": "stream",
     "text": [
      "Expected Output: 2510\n"
     ]
    }
   ],
   "source": [
    "import re\n",
    "\n",
    "def extract_digits(input_str):\n",
    "    digits = re.findall(r'\\d+', input_str)\n",
    "    return ''.join(digits)\n",
    "\n",
    "# Given string\n",
    "str1 = 'I am 25 years and 10 months old'\n",
    "\n",
    "# Extract digits\n",
    "result = extract_digits(str1)\n",
    "\n",
    "# Print the result\n",
    "print(\"Expected Output:\",result)"
   ]
  },
  {
   "cell_type": "markdown",
   "id": "e96a8873-b16c-4fda-9b7b-d4d1322cc654",
   "metadata": {},
   "source": [
    "### `Problem 16`: Check whether the string is Symmetrical."
   ]
  },
  {
   "cell_type": "code",
   "execution_count": 27,
   "id": "2fc95fb8-00db-4112-9758-22a28820b77d",
   "metadata": {},
   "outputs": [
    {
     "name": "stdin",
     "output_type": "stream",
     "text": [
      "Enter a string:  khokho\n"
     ]
    },
    {
     "name": "stdout",
     "output_type": "stream",
     "text": [
      "The entered string is not symmetrical\n"
     ]
    }
   ],
   "source": [
    "def is_symmetrical(input_str):\n",
    "    # Get the length of the string\n",
    "    length = len(input_str)\n",
    "    \n",
    "    # Compare the first half with the reversed second half\n",
    "    return input_str[:length//2] == input_str[-(length//2):][::-1]\n",
    "\n",
    "# Input the string from the keyboard\n",
    "input_string = input(\"Enter a string: \")\n",
    "\n",
    "# Check if the string is symmetrical\n",
    "if is_symmetrical(input_string):\n",
    "    print(\"The entered string is symmetrical\")\n",
    "else:\n",
    "    print(\"The entered string is not symmetrical\")"
   ]
  },
  {
   "cell_type": "markdown",
   "id": "af2672df-9aff-4592-8e46-92839f913dcd",
   "metadata": {},
   "source": [
    "### `Problem 17`: Reverse words in a given String"
   ]
  },
  {
   "cell_type": "code",
   "execution_count": 28,
   "id": "6ecead66-2daa-4f80-9474-f07b2c5d370e",
   "metadata": {},
   "outputs": [
    {
     "name": "stdin",
     "output_type": "stream",
     "text": [
      "Enter a string:  geeks quiz practice code\n"
     ]
    },
    {
     "name": "stdout",
     "output_type": "stream",
     "text": [
      "Output:\n",
      "code practice quiz geeks\n"
     ]
    }
   ],
   "source": [
    "def reverse_words(input_str):\n",
    "    # Split the string into words\n",
    "    words = input_str.split()\n",
    "    \n",
    "    # Reverse the order of the words\n",
    "    reversed_words = words[::-1]\n",
    "    \n",
    "    # Join the reversed words back into a string\n",
    "    reversed_string = ' '.join(reversed_words)\n",
    "    \n",
    "    return reversed_string\n",
    "\n",
    "# Input the string from the keyboard\n",
    "input_string = input(\"Enter a string: \")\n",
    "\n",
    "# Reverse the words in the string\n",
    "reversed_string = reverse_words(input_string)\n",
    "\n",
    "# Print the result\n",
    "print(\"Output:\")\n",
    "print(reversed_string)"
   ]
  },
  {
   "cell_type": "markdown",
   "id": "03a5dbf4-3fdd-4640-aa76-c341cd3ce4c2",
   "metadata": {},
   "source": [
    "### `Problem 18`: Find uncommon words from two Strings."
   ]
  },
  {
   "cell_type": "code",
   "execution_count": 1,
   "id": "2ae7df89-8635-40fd-b1a9-44cce19aca5c",
   "metadata": {},
   "outputs": [
    {
     "name": "stdin",
     "output_type": "stream",
     "text": [
      "Enter the first sentence:  A= \"apple banana mango\" \n",
      "Enter the second sentence:  B = \"banana fruits mango\"\n"
     ]
    },
    {
     "name": "stdout",
     "output_type": "stream",
     "text": [
      "Output:\n",
      "['A=', '\"apple', 'banana', 'B', '=', '\"banana', 'fruits']\n"
     ]
    }
   ],
   "source": [
    "def find_uncommon_words(sentence1, sentence2):\n",
    "    words1 = sentence1.split()\n",
    "    words2 = sentence2.split()\n",
    "    \n",
    "    frequency = {}\n",
    "    \n",
    "    # Count frequency of words in first sentence\n",
    "    for word in words1:\n",
    "        frequency[word] = frequency.get(word, 0) + 1\n",
    "    \n",
    "    # Count frequency of words in second sentence\n",
    "    for word in words2:\n",
    "        frequency[word] = frequency.get(word, 0) + 1\n",
    "    \n",
    "    # Select words with frequency of 1\n",
    "    uncommon_words = [word for word, freq in frequency.items() if freq == 1]\n",
    "    \n",
    "    return uncommon_words\n",
    "\n",
    "# Input sentences from the keyboard\n",
    "sentence1 = input(\"Enter the first sentence: \")\n",
    "sentence2 = input(\"Enter the second sentence: \")\n",
    "\n",
    "# Find uncommon words\n",
    "uncommon = find_uncommon_words(sentence1, sentence2)\n",
    "\n",
    "# Print the result\n",
    "print(\"Output:\")\n",
    "print(uncommon)"
   ]
  },
  {
   "cell_type": "markdown",
   "id": "85ba3521-1e9b-4379-9050-75e7169c13a7",
   "metadata": {},
   "source": [
    "### `Problem 19`: Word location in String."
   ]
  },
  {
   "cell_type": "code",
   "execution_count": 1,
   "id": "4918d24d-68ee-4388-9337-78cd052205dc",
   "metadata": {},
   "outputs": [
    {
     "name": "stdin",
     "output_type": "stream",
     "text": [
      "Enter the sentence:  Sentence: We can learn data science through campusx mentorship program.\n",
      "Enter the word to find:  campusx\n"
     ]
    },
    {
     "name": "stdout",
     "output_type": "stream",
     "text": [
      "Location of the word is: 8\n"
     ]
    }
   ],
   "source": [
    "def find_word_location(sentence, word):\n",
    "    words = sentence.split()\n",
    "    location = None\n",
    "    \n",
    "    for i, w in enumerate(words, 1):\n",
    "        if w == word:\n",
    "            location = i\n",
    "            break\n",
    "    \n",
    "    return location\n",
    "\n",
    "# Input the sentence and word from the keyboard\n",
    "sentence = input(\"Enter the sentence: \")\n",
    "word = input(\"Enter the word to find: \")\n",
    "\n",
    "# Find the location of the word\n",
    "location = find_word_location(sentence, word)\n",
    "\n",
    "# Print the result\n",
    "if location is not None:\n",
    "    print(f\"Location of the word is: {location}\")\n",
    "else:\n",
    "    print(\"The word is not found in the sentence.\")"
   ]
  },
  {
   "cell_type": "markdown",
   "id": "69b70a05-da8e-4e0b-a948-65217ebdd991",
   "metadata": {},
   "source": [
    "### `Problem 20`: Write a program that can remove all the duplicate characters from a string. User will provide the input."
   ]
  },
  {
   "cell_type": "code",
   "execution_count": 2,
   "id": "d0356d1f-ae39-4e21-8396-c8e1fd62ee54",
   "metadata": {},
   "outputs": [
    {
     "name": "stdin",
     "output_type": "stream",
     "text": [
      "Enter a string:  data science\n"
     ]
    },
    {
     "name": "stdout",
     "output_type": "stream",
     "text": [
      "String after removing duplicates: dat scien\n"
     ]
    }
   ],
   "source": [
    "def remove_duplicates(input_str):\n",
    "    # Create an empty set to store unique characters\n",
    "    unique_chars = set()\n",
    "    \n",
    "    # Initialize an empty string to store the result\n",
    "    result = \"\"\n",
    "    \n",
    "    # Iterate over each character in the input string\n",
    "    for char in input_str:\n",
    "        # If the character is not in the unique_chars set, add it to the result string and the set\n",
    "        if char not in unique_chars:\n",
    "            result += char\n",
    "            unique_chars.add(char)\n",
    "    \n",
    "    return result\n",
    "\n",
    "# Input the string from the keyboard\n",
    "input_string = input(\"Enter a string: \")\n",
    "\n",
    "# Remove duplicates from the string\n",
    "result_string = remove_duplicates(input_string)\n",
    "\n",
    "# Print the result\n",
    "print(\"String after removing duplicates:\",result_string)"
   ]
  },
  {
   "cell_type": "code",
   "execution_count": null,
   "id": "f78299e0-7e30-42a0-bd84-343578b7fda1",
   "metadata": {},
   "outputs": [],
   "source": []
  }
 ],
 "metadata": {
  "kernelspec": {
   "display_name": "Python 3 (ipykernel)",
   "language": "python",
   "name": "python3"
  },
  "language_info": {
   "codemirror_mode": {
    "name": "ipython",
    "version": 3
   },
   "file_extension": ".py",
   "mimetype": "text/x-python",
   "name": "python",
   "nbconvert_exporter": "python",
   "pygments_lexer": "ipython3",
   "version": "3.11.7"
  }
 },
 "nbformat": 4,
 "nbformat_minor": 5
}
